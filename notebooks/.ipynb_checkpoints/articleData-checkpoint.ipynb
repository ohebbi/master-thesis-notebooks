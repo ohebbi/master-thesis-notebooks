{
 "cells": [
  {
   "cell_type": "markdown",
   "metadata": {},
   "source": [
    "#### Using the exact dataset from the article"
   ]
  },
  {
   "cell_type": "markdown",
   "metadata": {},
   "source": [
    "Let's explore the dataset. "
   ]
  },
  {
   "cell_type": "code",
   "execution_count": 1,
   "metadata": {},
   "outputs": [],
   "source": [
    "import pandas as pd\n",
    "import numpy as np"
   ]
  },
  {
   "cell_type": "code",
   "execution_count": 2,
   "metadata": {
    "scrolled": false
   },
   "outputs": [
    {
     "data": {
      "text/html": [
       "<div>\n",
       "<style scoped>\n",
       "    .dataframe tbody tr th:only-of-type {\n",
       "        vertical-align: middle;\n",
       "    }\n",
       "\n",
       "    .dataframe tbody tr th {\n",
       "        vertical-align: top;\n",
       "    }\n",
       "\n",
       "    .dataframe thead th {\n",
       "        text-align: right;\n",
       "    }\n",
       "</style>\n",
       "<table border=\"1\" class=\"dataframe\">\n",
       "  <thead>\n",
       "    <tr style=\"text-align: right;\">\n",
       "      <th></th>\n",
       "      <th>Compound</th>\n",
       "      <th>Perovskite</th>\n",
       "      <th>Cubic</th>\n",
       "      <th>rA</th>\n",
       "      <th>rB</th>\n",
       "      <th>MA</th>\n",
       "      <th>MB</th>\n",
       "      <th>dAO</th>\n",
       "      <th>dBO</th>\n",
       "      <th>rA/rO</th>\n",
       "      <th>rB/rO</th>\n",
       "      <th>t</th>\n",
       "    </tr>\n",
       "  </thead>\n",
       "  <tbody>\n",
       "    <tr>\n",
       "      <th>0</th>\n",
       "      <td>AgBiO3</td>\n",
       "      <td>-1</td>\n",
       "      <td>0</td>\n",
       "      <td>1.46</td>\n",
       "      <td>0.76</td>\n",
       "      <td>65</td>\n",
       "      <td>86</td>\n",
       "      <td>1.805</td>\n",
       "      <td>2.060</td>\n",
       "      <td>1.081</td>\n",
       "      <td>0.563</td>\n",
       "      <td>0.942</td>\n",
       "    </tr>\n",
       "    <tr>\n",
       "      <th>1</th>\n",
       "      <td>AgBrO3</td>\n",
       "      <td>-1</td>\n",
       "      <td>0</td>\n",
       "      <td>1.46</td>\n",
       "      <td>0.47</td>\n",
       "      <td>65</td>\n",
       "      <td>95</td>\n",
       "      <td>1.805</td>\n",
       "      <td>1.840</td>\n",
       "      <td>1.081</td>\n",
       "      <td>0.348</td>\n",
       "      <td>1.092</td>\n",
       "    </tr>\n",
       "    <tr>\n",
       "      <th>2</th>\n",
       "      <td>AgNO3</td>\n",
       "      <td>-1</td>\n",
       "      <td>0</td>\n",
       "      <td>1.46</td>\n",
       "      <td>0.13</td>\n",
       "      <td>65</td>\n",
       "      <td>82</td>\n",
       "      <td>1.805</td>\n",
       "      <td>1.432</td>\n",
       "      <td>1.081</td>\n",
       "      <td>0.096</td>\n",
       "      <td>1.343</td>\n",
       "    </tr>\n",
       "    <tr>\n",
       "      <th>3</th>\n",
       "      <td>AgPO3</td>\n",
       "      <td>-1</td>\n",
       "      <td>0</td>\n",
       "      <td>1.46</td>\n",
       "      <td>0.38</td>\n",
       "      <td>65</td>\n",
       "      <td>83</td>\n",
       "      <td>1.805</td>\n",
       "      <td>1.604</td>\n",
       "      <td>1.081</td>\n",
       "      <td>0.281</td>\n",
       "      <td>1.149</td>\n",
       "    </tr>\n",
       "    <tr>\n",
       "      <th>4</th>\n",
       "      <td>AgSbO3</td>\n",
       "      <td>-1</td>\n",
       "      <td>0</td>\n",
       "      <td>1.46</td>\n",
       "      <td>0.60</td>\n",
       "      <td>65</td>\n",
       "      <td>85</td>\n",
       "      <td>1.805</td>\n",
       "      <td>1.942</td>\n",
       "      <td>1.081</td>\n",
       "      <td>0.444</td>\n",
       "      <td>1.019</td>\n",
       "    </tr>\n",
       "  </tbody>\n",
       "</table>\n",
       "</div>"
      ],
      "text/plain": [
       "  Compound  Perovskite  Cubic    rA    rB  MA  MB    dAO    dBO  rA/rO  rB/rO  \\\n",
       "0   AgBiO3          -1      0  1.46  0.76  65  86  1.805  2.060  1.081  0.563   \n",
       "1   AgBrO3          -1      0  1.46  0.47  65  95  1.805  1.840  1.081  0.348   \n",
       "2    AgNO3          -1      0  1.46  0.13  65  82  1.805  1.432  1.081  0.096   \n",
       "3    AgPO3          -1      0  1.46  0.38  65  83  1.805  1.604  1.081  0.281   \n",
       "4   AgSbO3          -1      0  1.46  0.60  65  85  1.805  1.942  1.081  0.444   \n",
       "\n",
       "       t  \n",
       "0  0.942  \n",
       "1  1.092  \n",
       "2  1.343  \n",
       "3  1.149  \n",
       "4  1.019  "
      ]
     },
     "execution_count": 2,
     "metadata": {},
     "output_type": "execute_result"
    }
   ],
   "source": [
    "data = pd.read_csv('../data/390ABO3.csv', sep='\\s+')\n",
    "data.head()"
   ]
  },
  {
   "cell_type": "code",
   "execution_count": 3,
   "metadata": {},
   "outputs": [
    {
     "data": {
      "text/html": [
       "<div>\n",
       "<style scoped>\n",
       "    .dataframe tbody tr th:only-of-type {\n",
       "        vertical-align: middle;\n",
       "    }\n",
       "\n",
       "    .dataframe tbody tr th {\n",
       "        vertical-align: top;\n",
       "    }\n",
       "\n",
       "    .dataframe thead th {\n",
       "        text-align: right;\n",
       "    }\n",
       "</style>\n",
       "<table border=\"1\" class=\"dataframe\">\n",
       "  <thead>\n",
       "    <tr style=\"text-align: right;\">\n",
       "      <th></th>\n",
       "      <th>Perovskite</th>\n",
       "      <th>Cubic</th>\n",
       "      <th>rA</th>\n",
       "      <th>rB</th>\n",
       "      <th>MA</th>\n",
       "      <th>MB</th>\n",
       "      <th>dAO</th>\n",
       "      <th>dBO</th>\n",
       "      <th>rA/rO</th>\n",
       "      <th>rB/rO</th>\n",
       "      <th>t</th>\n",
       "    </tr>\n",
       "  </thead>\n",
       "  <tbody>\n",
       "    <tr>\n",
       "      <th>count</th>\n",
       "      <td>390.000000</td>\n",
       "      <td>390.000000</td>\n",
       "      <td>390.000000</td>\n",
       "      <td>390.000000</td>\n",
       "      <td>390.000000</td>\n",
       "      <td>390.000000</td>\n",
       "      <td>390.000000</td>\n",
       "      <td>390.000000</td>\n",
       "      <td>390.000000</td>\n",
       "      <td>390.00000</td>\n",
       "      <td>390.000000</td>\n",
       "    </tr>\n",
       "    <tr>\n",
       "      <th>mean</th>\n",
       "      <td>0.302564</td>\n",
       "      <td>-0.538462</td>\n",
       "      <td>1.304477</td>\n",
       "      <td>0.617344</td>\n",
       "      <td>29.520513</td>\n",
       "      <td>57.682051</td>\n",
       "      <td>1.972280</td>\n",
       "      <td>1.791274</td>\n",
       "      <td>0.966377</td>\n",
       "      <td>0.45731</td>\n",
       "      <td>0.961218</td>\n",
       "    </tr>\n",
       "    <tr>\n",
       "      <th>std</th>\n",
       "      <td>0.954353</td>\n",
       "      <td>0.601889</td>\n",
       "      <td>0.194530</td>\n",
       "      <td>0.172118</td>\n",
       "      <td>24.695437</td>\n",
       "      <td>21.061214</td>\n",
       "      <td>0.211774</td>\n",
       "      <td>0.168388</td>\n",
       "      <td>0.144137</td>\n",
       "      <td>0.12752</td>\n",
       "      <td>0.110768</td>\n",
       "    </tr>\n",
       "    <tr>\n",
       "      <th>min</th>\n",
       "      <td>-1.000000</td>\n",
       "      <td>-1.000000</td>\n",
       "      <td>0.788000</td>\n",
       "      <td>0.130000</td>\n",
       "      <td>1.000000</td>\n",
       "      <td>11.000000</td>\n",
       "      <td>1.174500</td>\n",
       "      <td>1.371000</td>\n",
       "      <td>0.584000</td>\n",
       "      <td>0.09600</td>\n",
       "      <td>0.732000</td>\n",
       "    </tr>\n",
       "    <tr>\n",
       "      <th>25%</th>\n",
       "      <td>-1.000000</td>\n",
       "      <td>-1.000000</td>\n",
       "      <td>1.179000</td>\n",
       "      <td>0.535000</td>\n",
       "      <td>9.000000</td>\n",
       "      <td>46.000000</td>\n",
       "      <td>1.930000</td>\n",
       "      <td>1.730000</td>\n",
       "      <td>0.873000</td>\n",
       "      <td>0.39600</td>\n",
       "      <td>0.893250</td>\n",
       "    </tr>\n",
       "    <tr>\n",
       "      <th>50%</th>\n",
       "      <td>1.000000</td>\n",
       "      <td>-1.000000</td>\n",
       "      <td>1.270000</td>\n",
       "      <td>0.622500</td>\n",
       "      <td>23.000000</td>\n",
       "      <td>55.000000</td>\n",
       "      <td>2.009000</td>\n",
       "      <td>1.791000</td>\n",
       "      <td>0.941000</td>\n",
       "      <td>0.46100</td>\n",
       "      <td>0.933000</td>\n",
       "    </tr>\n",
       "    <tr>\n",
       "      <th>75%</th>\n",
       "      <td>1.000000</td>\n",
       "      <td>0.000000</td>\n",
       "      <td>1.390000</td>\n",
       "      <td>0.680000</td>\n",
       "      <td>41.000000</td>\n",
       "      <td>75.000000</td>\n",
       "      <td>2.098000</td>\n",
       "      <td>1.905000</td>\n",
       "      <td>1.030000</td>\n",
       "      <td>0.50400</td>\n",
       "      <td>1.000750</td>\n",
       "    </tr>\n",
       "    <tr>\n",
       "      <th>max</th>\n",
       "      <td>1.000000</td>\n",
       "      <td>1.000000</td>\n",
       "      <td>1.880000</td>\n",
       "      <td>1.032000</td>\n",
       "      <td>86.000000</td>\n",
       "      <td>96.000000</td>\n",
       "      <td>2.286200</td>\n",
       "      <td>2.167000</td>\n",
       "      <td>1.393000</td>\n",
       "      <td>0.76400</td>\n",
       "      <td>1.467000</td>\n",
       "    </tr>\n",
       "  </tbody>\n",
       "</table>\n",
       "</div>"
      ],
      "text/plain": [
       "       Perovskite       Cubic          rA          rB          MA          MB  \\\n",
       "count  390.000000  390.000000  390.000000  390.000000  390.000000  390.000000   \n",
       "mean     0.302564   -0.538462    1.304477    0.617344   29.520513   57.682051   \n",
       "std      0.954353    0.601889    0.194530    0.172118   24.695437   21.061214   \n",
       "min     -1.000000   -1.000000    0.788000    0.130000    1.000000   11.000000   \n",
       "25%     -1.000000   -1.000000    1.179000    0.535000    9.000000   46.000000   \n",
       "50%      1.000000   -1.000000    1.270000    0.622500   23.000000   55.000000   \n",
       "75%      1.000000    0.000000    1.390000    0.680000   41.000000   75.000000   \n",
       "max      1.000000    1.000000    1.880000    1.032000   86.000000   96.000000   \n",
       "\n",
       "              dAO         dBO       rA/rO      rB/rO           t  \n",
       "count  390.000000  390.000000  390.000000  390.00000  390.000000  \n",
       "mean     1.972280    1.791274    0.966377    0.45731    0.961218  \n",
       "std      0.211774    0.168388    0.144137    0.12752    0.110768  \n",
       "min      1.174500    1.371000    0.584000    0.09600    0.732000  \n",
       "25%      1.930000    1.730000    0.873000    0.39600    0.893250  \n",
       "50%      2.009000    1.791000    0.941000    0.46100    0.933000  \n",
       "75%      2.098000    1.905000    1.030000    0.50400    1.000750  \n",
       "max      2.286200    2.167000    1.393000    0.76400    1.467000  "
      ]
     },
     "execution_count": 3,
     "metadata": {},
     "output_type": "execute_result"
    }
   ],
   "source": [
    "data.describe()"
   ]
  },
  {
   "cell_type": "markdown",
   "metadata": {},
   "source": [
    "### This is our training data.\n",
    "\n",
    "Here we can tell that there are 390 observables, where the label is compound, and if perovskite: 1 and if _not_ perovskite: -1. The same goes with cubic. "
   ]
  },
  {
   "cell_type": "markdown",
   "metadata": {},
   "source": [
    "#### The Shannon ionic radii\n",
    "are estimates of an element's onic hard-sphere radii extracted from experiment, and with them it is possible to compute the octahedral and Goldschmidth tolerance factors. These dimensionless numbers are commonly used in studies involving perovskite or nonperovskite structures of materials. They measure the ionic misfit of the B atom and the deviation of the structure from an ideal cubic geometry. The octahedral factor for an ABO$_3$ solid is \n",
    "$$O= r_b/r_O,  $$\n",
    "where $r_b$ and $r_O$ are the Shannon radii for the B-atom and oxygen ($r_O = 1.4 $ Å, apparently). Six-fold coordination 'seems' to require $0.414 < O < 0.732$. $O=0.435$ corresponds to the arrangement where hard sphere $B$ and $O$ ions are touching in a close-packed arrangement. Empirical studies shows that the crystal structure is correlated with the Shannon radii of $r_A$ and $r_B$, specifically that $r_A>r_B$ for perovskite, and that the A atoms are in a 12-fold coordinated site if $r_A > 0.9$ Å and in a sixfold coordinated (octahedral) site if $r_A < 0.8$ Å, as long as $r_B>0.7$ Å. "
   ]
  },
  {
   "cell_type": "markdown",
   "metadata": {},
   "source": [
    "#### The tolerance factor\n",
    "is defined as \n",
    "$$ t = \\frac{r_A + r_O }{\\sqrt{2} (r_B + r_O)} .$$\n",
    "Empirical studies shows that if\n",
    "- $t>1$: hexagonal nonperovskite. \n",
    "- $0.9<t<1.0$: cubic perovskite.\n",
    "- $0.75 < t < 0.9 $: orthorombic perovskite.\n",
    "- $t < 0.75$: generally not a perovskite. \n",
    "- $t = 1$: perfect cubic. "
   ]
  },
  {
   "cell_type": "markdown",
   "metadata": {},
   "source": [
    "#### The bond length\n",
    "In bond valence theory, a valence $V_i = \\sum v_{ij}$ is assigned to an anion or cation as the sum of valences\n",
    "$$ v_{ij} = \\exp (d_0 - d_{ij})/b,$$\n",
    "where $b$ and $d_0$ is parameters fit to experimental data, with the latter depending on the cation-anion pair while $b$ has a value that is almost universally $1.4$ Å. If $v_{ij}$ is taken to be the nominal valence of atom $i$ divided by the number of its nearest neighbors, then the $d_{ij}$ bond length can be easily computed [4] (check references). "
   ]
  },
  {
   "cell_type": "markdown",
   "metadata": {},
   "source": [
    "#### The mendeleev numbers  (MA and MB)\n",
    "here are used as was described by Villars _et al_, where he labels the atoms sequentially in their periodic table columns always from top to bottm. This means that \n",
    "- s-block {1,10},\n",
    "- Sc {11},\n",
    "- Y {12},\n",
    "- f-block {13,42},\n",
    "- d-block {43,66},\n",
    "- p-block {67,10}\n",
    "It is reported that chemical trends in atomic co-ordination and crystal structure are best seen by grouping elements by columns opposed to grouping as rows. "
   ]
  },
  {
   "cell_type": "markdown",
   "metadata": {},
   "source": [
    "We note that all compounds are charge balanced compounds. "
   ]
  },
  {
   "cell_type": "markdown",
   "metadata": {},
   "source": [
    "# One time cross-validating 100 for learning perovskite structure"
   ]
  },
  {
   "cell_type": "code",
   "execution_count": 4,
   "metadata": {},
   "outputs": [
    {
     "name": "stdout",
     "output_type": "stream",
     "text": [
      "The amount of perovskites in the data:\n",
      "0.6512820512820513\n",
      "The amount of cubic structures of the perovskites in the data:\n",
      "0.08661417322834646\n",
      "There is a total of 390  observables in this data.\n"
     ]
    }
   ],
   "source": [
    "print (\"The amount of perovskites in the data:\")\n",
    "print(np.sum(data.Perovskite == 1)/len(data.Perovskite))\n",
    "\n",
    "print (\"The amount of cubic structures of the perovskites in the data:\")\n",
    "print(np.sum(data.Cubic == 1)/np.sum(data.Cubic != 0))\n",
    "\n",
    "print (\"There is a total of\", len(data.Perovskite), \" observables in this data.\")\n"
   ]
  },
  {
   "cell_type": "markdown",
   "metadata": {},
   "source": [
    "In machine learning, a model can be induced with a significant bias when data consists of non-uniform amounts of class observables. As an example, a model wants to learn how to classify cats or dogs. However, the data consists of 950 cats and 50 dogs. Most classification algorithms will weight each class equally, which means overrepresented classes will be weighed too much. In addition, a KFold cross-validation might also have no representatives of a class label if there are few observables of the class in the data, meaning that the model will not learn how to classify this class. \n",
    "\n",
    "One way to solve this is to utilize stratification in cross validation, which divides each fold with a representative strata of the total data. For the example with cats and dogs, this will mean that every training and test set will correspond to 95% cats and 5% dogs. "
   ]
  },
  {
   "cell_type": "code",
   "execution_count": 5,
   "metadata": {},
   "outputs": [],
   "source": [
    "\n",
    "y = data['Perovskite']\n",
    "y = np.where(y < 0, 0, 1) # convert all -1 to 1. \n",
    "X_df = data.drop([\"Perovskite\", \"Cubic\", \"Compound\"], axis=1)\n",
    "X = data.drop([\"Perovskite\", \"Cubic\", \"Compound\"], axis=1)\n",
    "#X = data[['rB/rO','t']].values"
   ]
  },
  {
   "cell_type": "code",
   "execution_count": 6,
   "metadata": {},
   "outputs": [
    {
     "data": {
      "text/html": [
       "<div>\n",
       "<style scoped>\n",
       "    .dataframe tbody tr th:only-of-type {\n",
       "        vertical-align: middle;\n",
       "    }\n",
       "\n",
       "    .dataframe tbody tr th {\n",
       "        vertical-align: top;\n",
       "    }\n",
       "\n",
       "    .dataframe thead th {\n",
       "        text-align: right;\n",
       "    }\n",
       "</style>\n",
       "<table border=\"1\" class=\"dataframe\">\n",
       "  <thead>\n",
       "    <tr style=\"text-align: right;\">\n",
       "      <th></th>\n",
       "      <th>rA</th>\n",
       "      <th>rB</th>\n",
       "      <th>MA</th>\n",
       "      <th>MB</th>\n",
       "      <th>dAO</th>\n",
       "      <th>dBO</th>\n",
       "      <th>rA/rO</th>\n",
       "      <th>rB/rO</th>\n",
       "      <th>t</th>\n",
       "    </tr>\n",
       "  </thead>\n",
       "  <tbody>\n",
       "    <tr>\n",
       "      <th>0</th>\n",
       "      <td>1.46</td>\n",
       "      <td>0.76</td>\n",
       "      <td>65</td>\n",
       "      <td>86</td>\n",
       "      <td>1.805</td>\n",
       "      <td>2.060</td>\n",
       "      <td>1.081</td>\n",
       "      <td>0.563</td>\n",
       "      <td>0.942</td>\n",
       "    </tr>\n",
       "    <tr>\n",
       "      <th>1</th>\n",
       "      <td>1.46</td>\n",
       "      <td>0.47</td>\n",
       "      <td>65</td>\n",
       "      <td>95</td>\n",
       "      <td>1.805</td>\n",
       "      <td>1.840</td>\n",
       "      <td>1.081</td>\n",
       "      <td>0.348</td>\n",
       "      <td>1.092</td>\n",
       "    </tr>\n",
       "    <tr>\n",
       "      <th>2</th>\n",
       "      <td>1.46</td>\n",
       "      <td>0.13</td>\n",
       "      <td>65</td>\n",
       "      <td>82</td>\n",
       "      <td>1.805</td>\n",
       "      <td>1.432</td>\n",
       "      <td>1.081</td>\n",
       "      <td>0.096</td>\n",
       "      <td>1.343</td>\n",
       "    </tr>\n",
       "    <tr>\n",
       "      <th>3</th>\n",
       "      <td>1.46</td>\n",
       "      <td>0.38</td>\n",
       "      <td>65</td>\n",
       "      <td>83</td>\n",
       "      <td>1.805</td>\n",
       "      <td>1.604</td>\n",
       "      <td>1.081</td>\n",
       "      <td>0.281</td>\n",
       "      <td>1.149</td>\n",
       "    </tr>\n",
       "    <tr>\n",
       "      <th>4</th>\n",
       "      <td>1.46</td>\n",
       "      <td>0.60</td>\n",
       "      <td>65</td>\n",
       "      <td>85</td>\n",
       "      <td>1.805</td>\n",
       "      <td>1.942</td>\n",
       "      <td>1.081</td>\n",
       "      <td>0.444</td>\n",
       "      <td>1.019</td>\n",
       "    </tr>\n",
       "  </tbody>\n",
       "</table>\n",
       "</div>"
      ],
      "text/plain": [
       "     rA    rB  MA  MB    dAO    dBO  rA/rO  rB/rO      t\n",
       "0  1.46  0.76  65  86  1.805  2.060  1.081  0.563  0.942\n",
       "1  1.46  0.47  65  95  1.805  1.840  1.081  0.348  1.092\n",
       "2  1.46  0.13  65  82  1.805  1.432  1.081  0.096  1.343\n",
       "3  1.46  0.38  65  83  1.805  1.604  1.081  0.281  1.149\n",
       "4  1.46  0.60  65  85  1.805  1.942  1.081  0.444  1.019"
      ]
     },
     "execution_count": 6,
     "metadata": {},
     "output_type": "execute_result"
    }
   ],
   "source": [
    "from sklearn.preprocessing import StandardScaler\n",
    "X_df.head()\n",
    "#Normalize \n",
    "#scaler = StandardScaler()\n",
    "#scaler.fit(X)\n",
    "#X = scaler.transform(X)\n",
    "#print(X[:10])"
   ]
  },
  {
   "cell_type": "markdown",
   "metadata": {},
   "source": [
    "Under follows the general model runModel that takes the as parameter which model to run and returns nice statistics formatted as a dictionary. "
   ]
  },
  {
   "cell_type": "code",
   "execution_count": 7,
   "metadata": {
    "scrolled": false
   },
   "outputs": [],
   "source": [
    "from sklearn.preprocessing import StandardScaler\n",
    "from sklearn.ensemble import RandomForestClassifier, GradientBoostingClassifier\n",
    "from sklearn.model_selection import RepeatedStratifiedKFold\n",
    "from sklearn.feature_selection import SelectFromModel\n",
    "from sklearn.metrics import f1_score\n",
    "\n",
    "from tqdm import tqdm\n",
    "\n",
    "from matminer.figrecipes.plot import PlotlyFig\n",
    "\n",
    "\n",
    "numberRuns = 5\n",
    "totalRuns = 2*numberRuns\n",
    "\n",
    "def runModel(model, max_depth, numberRuns):\n",
    "    \n",
    "    totalRuns = 2*numberRuns\n",
    "    modelResults = {'accuracy': np.zeros(totalRuns), 'std': np.zeros(totalRuns), 'f1': np.zeros(totalRuns),\n",
    "                'importantKeys': np.zeros(len(data.drop([\"Perovskite\", \"Cubic\", \"Compound\"], axis=1).keys())),\n",
    "                'numPredPero': np.zeros(totalRuns)}\n",
    "    \n",
    "    #The chosen algorithm with given parameters.\n",
    "    clf = model(max_depth=max_depth, random_state=98127480)\n",
    "    \n",
    "    # splitting into 50%/50% training and test data if n_splits = 2.\n",
    "    rskf = RepeatedStratifiedKFold(n_splits=2, n_repeats=numberRuns, random_state=36851234)\n",
    "\n",
    "    sel_clf = SelectFromModel(model())\n",
    "    \n",
    "    for i, (train_index, test_index) in tqdm(enumerate(rskf.split(X, y))):\n",
    "\n",
    "        X_train, X_test = X.iloc[train_index], X.iloc[test_index] \n",
    "        y_train, y_test = y[train_index], y[test_index]\n",
    "    \n",
    "        #fit the model\n",
    "        clf.fit(X_train, y_train)\n",
    "        sel_clf.fit(X_train, y_train)\n",
    "    \n",
    "        modelResults['accuracy'][i] = clf.score(X_test, y_test)\n",
    "        modelResults['std'][i]      = np.std(modelResults['accuracy'][0:i+1])\n",
    "        modelResults['f1'][i]       = f1_score(y_test, clf.predict(X_test), average='binary')\n",
    "        modelResults['numPredPero'][i]= np.sum(clf.predict(X))\n",
    "        modelResults['importantKeys'][sel_clf.get_support()] += 1\n",
    "        \n",
    "    modelResults['relativeImportance'] = clf.feature_importances_     \n",
    "    print (\"Mean accuracy:\", np.mean(modelResults['accuracy']))\n",
    "    print (\"std:\", modelResults['std'][-1])\n",
    "    \n",
    "    return modelResults"
   ]
  },
  {
   "cell_type": "markdown",
   "metadata": {},
   "source": [
    "This is where we generate a lot of different models, and thus will take some time to execute. "
   ]
  },
  {
   "cell_type": "code",
   "execution_count": 8,
   "metadata": {},
   "outputs": [
    {
     "name": "stderr",
     "output_type": "stream",
     "text": [
      "10it [00:05,  1.72it/s]\n",
      "0it [00:00, ?it/s]"
     ]
    },
    {
     "name": "stdout",
     "output_type": "stream",
     "text": [
      "Mean accuracy: 0.9184615384615386\n",
      "std: 0.014586115541874748\n"
     ]
    },
    {
     "name": "stderr",
     "output_type": "stream",
     "text": [
      "10it [00:02,  4.15it/s]"
     ]
    },
    {
     "name": "stdout",
     "output_type": "stream",
     "text": [
      "Mean accuracy: 0.9194871794871794\n",
      "std: 0.01556306759537798\n"
     ]
    },
    {
     "name": "stderr",
     "output_type": "stream",
     "text": [
      "\n"
     ]
    }
   ],
   "source": [
    "randomForrest = runModel(RandomForestClassifier, \n",
    "                         max_depth = 6, numberRuns = numberRuns)\n",
    "\n",
    "gradientBoost = runModel(GradientBoostingClassifier, \n",
    "                         max_depth = 2, numberRuns = numberRuns)"
   ]
  },
  {
   "cell_type": "code",
   "execution_count": 9,
   "metadata": {},
   "outputs": [
    {
     "data": {
      "image/png": "[encoded data removed]",
      "text/plain": [
       "<Figure size 432x288 with 1 Axes>"
      ]
     },
     "metadata": {
      "needs_background": "light"
     },
     "output_type": "display_data"
    },
    {
     "data": {
      "image/png": "[encoded data removed]",
      "text/plain": [
       "<Figure size 432x288 with 1 Axes>"
      ]
     },
     "metadata": {
      "needs_background": "light"
     },
     "output_type": "display_data"
    }
   ],
   "source": [
    "import matplotlib.pyplot as plt \n",
    "plt.plot(randomForrest['accuracy'])\n",
    "plt.plot(gradientBoost['accuracy'])\n",
    "plt.title(\"Accuracy\")\n",
    "plt.legend(['RFC', 'GTBC'])\n",
    "plt.show()\n",
    "\n",
    "plt.plot(randomForrest['std'])\n",
    "plt.plot(gradientBoost['std'])\n",
    "plt.title(\"STD\")\n",
    "plt.legend(['RFC', 'GTBC'])\n",
    "plt.show()"
   ]
  },
  {
   "cell_type": "markdown",
   "metadata": {},
   "source": [
    "The standard deviation is calculated as a function difference of the 100 models (that are not averaged or anything, yet), in the purpose of visalizing how much the models deviate from each other. "
   ]
  },
  {
   "cell_type": "code",
   "execution_count": 10,
   "metadata": {},
   "outputs": [
    {
     "data": {
      "image/png": "[encoded data removed]",
      "text/plain": [
       "<Figure size 432x288 with 1 Axes>"
      ]
     },
     "metadata": {
      "needs_background": "light"
     },
     "output_type": "display_data"
    }
   ],
   "source": [
    "plt.plot(randomForrest['numPredPero'])\n",
    "plt.plot(gradientBoost['numPredPero'])\n",
    "plt.title(\"Number of predicted perovskites\")\n",
    "plt.legend(['RFC', 'GTBC'])\n",
    "plt.show()"
   ]
  },
  {
   "cell_type": "code",
   "execution_count": 11,
   "metadata": {
    "scrolled": false
   },
   "outputs": [
    {
     "data": {
      "image/png": "[encoded data removed]",
      "text/plain": [
       "<Figure size 432x288 with 1 Axes>"
      ]
     },
     "metadata": {
      "needs_background": "light"
     },
     "output_type": "display_data"
    }
   ],
   "source": [
    "randomForrestKey = {}\n",
    "gradientBoostKey = {}\n",
    "for i in range(9): \n",
    "    randomForrestKey[str(data.drop([\"Perovskite\", \"Cubic\", \"Compound\"], axis=1).keys()[i])] \\\n",
    "        = randomForrest['importantKeys'][i]\n",
    "    gradientBoostKey[str(data.drop([\"Perovskite\", \"Cubic\", \"Compound\"], axis=1).keys()[i])] \\\n",
    "        = gradientBoost['importantKeys'][i]\n",
    "\n",
    "ind = np.arange(len(randomForrest['importantKeys']))  # the x locations for the groups\n",
    "width = 0.35       # the width of the bars\n",
    "\n",
    "fig, ax = plt.subplots()\n",
    "rects1 = ax.bar(ind, randomForrestKey.values(), width, color='r')\n",
    "rects2 = ax.bar(ind + width, gradientBoostKey.values(), width, color='y')\n",
    "\n",
    "# add some text for labels, title and axes ticks\n",
    "ax.set_ylabel('Scores')\n",
    "ax.set_title('Scores of important features')\n",
    "ax.set_xticks(ind + width / 2)\n",
    "ax.set_xticklabels(randomForrestKey.keys())\n",
    "ax.legend((rects1[0], rects2[0]), ('RFC', 'GTBC'))\n",
    "    \n",
    "plt.show()"
   ]
  },
  {
   "cell_type": "code",
   "execution_count": 45,
   "metadata": {},
   "outputs": [
    {
     "data": {
      "application/vnd.plotly.v1+json": {
       "config": {
        "plotlyServerURL": "https://plot.ly"
       },
       "data": [
        {
         "name": "RFC",
         "type": "bar",
         "x": [
          "rA",
          "rB",
          "MA",
          "MB",
          "dAO",
          "dBO",
          "rA/rO",
          "rB/rO",
          "t"
         ],
         "y": [
          0.07176673784906495,
          0.12942084414948604,
          0.06550038099860533,
          0.0941675167577392,
          0.147908460094524,
          0.050731846977859714,
          0.09623745004899384,
          0.1737399537265151,
          0.17052680939721188
         ]
        },
        {
         "name": "GTBC",
         "type": "bar",
         "x": [
          "rA",
          "rB",
          "MA",
          "MB",
          "dAO",
          "dBO",
          "rA/rO",
          "rB/rO",
          "t"
         ],
         "y": [
          0.028284634017343324,
          0.03403208815427427,
          0.014260368279441459,
          0.06591815709548837,
          0.31380042737460834,
          0.015231302863842694,
          0.015088527360404289,
          0.07307226219840801,
          0.44031223265618924
         ]
        }
       ],
       "layout": {
        "barmode": "group",
        "template": {
         "data": {
          "bar": [
           {
            "error_x": {
             "color": "#2a3f5f"
            },
            "error_y": {
             "color": "#2a3f5f"
            },
            "marker": {
             "line": {
              "color": "#E5ECF6",
              "width": 0.5
             }
            },
            "type": "bar"
           }
          ],
          "barpolar": [
           {
            "marker": {
             "line": {
              "color": "#E5ECF6",
              "width": 0.5
             }
            },
            "type": "barpolar"
           }
          ],
          "carpet": [
           {
            "aaxis": {
             "endlinecolor": "#2a3f5f",
             "gridcolor": "white",
             "linecolor": "white",
             "minorgridcolor": "white",
             "startlinecolor": "#2a3f5f"
            },
            "baxis": {
             "endlinecolor": "#2a3f5f",
             "gridcolor": "white",
             "linecolor": "white",
             "minorgridcolor": "white",
             "startlinecolor": "#2a3f5f"
            },
            "type": "carpet"
           }
          ],
          "choropleth": [
           {
            "colorbar": {
             "outlinewidth": 0,
             "ticks": ""
            },
            "type": "choropleth"
           }
          ],
          "contour": [
           {
            "colorbar": {
             "outlinewidth": 0,
             "ticks": ""
            },
            "colorscale": [
             [
              0,
              "#0d0887"
             ],
             [
              0.1111111111111111,
              "#46039f"
             ],
             [
              0.2222222222222222,
              "#7201a8"
             ],
             [
              0.3333333333333333,
              "#9c179e"
             ],
             [
              0.4444444444444444,
              "#bd3786"
             ],
             [
              0.5555555555555556,
              "#d8576b"
             ],
             [
              0.6666666666666666,
              "#ed7953"
             ],
             [
              0.7777777777777778,
              "#fb9f3a"
             ],
             [
              0.8888888888888888,
              "#fdca26"
             ],
             [
              1,
              "#f0f921"
             ]
            ],
            "type": "contour"
           }
          ],
          "contourcarpet": [
           {
            "colorbar": {
             "outlinewidth": 0,
             "ticks": ""
            },
            "type": "contourcarpet"
           }
          ],
          "heatmap": [
           {
            "colorbar": {
             "outlinewidth": 0,
             "ticks": ""
            },
            "colorscale": [
             [
              0,
              "#0d0887"
             ],
             [
              0.1111111111111111,
              "#46039f"
             ],
             [
              0.2222222222222222,
              "#7201a8"
             ],
             [
              0.3333333333333333,
              "#9c179e"
             ],
             [
              0.4444444444444444,
              "#bd3786"
             ],
             [
              0.5555555555555556,
              "#d8576b"
             ],
             [
              0.6666666666666666,
              "#ed7953"
             ],
             [
              0.7777777777777778,
              "#fb9f3a"
             ],
             [
              0.8888888888888888,
              "#fdca26"
             ],
             [
              1,
              "#f0f921"
             ]
            ],
            "type": "heatmap"
           }
          ],
          "heatmapgl": [
           {
            "colorbar": {
             "outlinewidth": 0,
             "ticks": ""
            },
            "colorscale": [
             [
              0,
              "#0d0887"
             ],
             [
              0.1111111111111111,
              "#46039f"
             ],
             [
              0.2222222222222222,
              "#7201a8"
             ],
             [
              0.3333333333333333,
              "#9c179e"
             ],
             [
              0.4444444444444444,
              "#bd3786"
             ],
             [
              0.5555555555555556,
              "#d8576b"
             ],
             [
              0.6666666666666666,
              "#ed7953"
             ],
             [
              0.7777777777777778,
              "#fb9f3a"
             ],
             [
              0.8888888888888888,
              "#fdca26"
             ],
             [
              1,
              "#f0f921"
             ]
            ],
            "type": "heatmapgl"
           }
          ],
          "histogram": [
           {
            "marker": {
             "colorbar": {
              "outlinewidth": 0,
              "ticks": ""
             }
            },
            "type": "histogram"
           }
          ],
          "histogram2d": [
           {
            "colorbar": {
             "outlinewidth": 0,
             "ticks": ""
            },
            "colorscale": [
             [
              0,
              "#0d0887"
             ],
             [
              0.1111111111111111,
              "#46039f"
             ],
             [
              0.2222222222222222,
              "#7201a8"
             ],
             [
              0.3333333333333333,
              "#9c179e"
             ],
             [
              0.4444444444444444,
              "#bd3786"
             ],
             [
              0.5555555555555556,
              "#d8576b"
             ],
             [
              0.6666666666666666,
              "#ed7953"
             ],
             [
              0.7777777777777778,
              "#fb9f3a"
             ],
             [
              0.8888888888888888,
              "#fdca26"
             ],
             [
              1,
              "#f0f921"
             ]
            ],
            "type": "histogram2d"
           }
          ],
          "histogram2dcontour": [
           {
            "colorbar": {
             "outlinewidth": 0,
             "ticks": ""
            },
            "colorscale": [
             [
              0,
              "#0d0887"
             ],
             [
              0.1111111111111111,
              "#46039f"
             ],
             [
              0.2222222222222222,
              "#7201a8"
             ],
             [
              0.3333333333333333,
              "#9c179e"
             ],
             [
              0.4444444444444444,
              "#bd3786"
             ],
             [
              0.5555555555555556,
              "#d8576b"
             ],
             [
              0.6666666666666666,
              "#ed7953"
             ],
             [
              0.7777777777777778,
              "#fb9f3a"
             ],
             [
              0.8888888888888888,
              "#fdca26"
             ],
             [
              1,
              "#f0f921"
             ]
            ],
            "type": "histogram2dcontour"
           }
          ],
          "mesh3d": [
           {
            "colorbar": {
             "outlinewidth": 0,
             "ticks": ""
            },
            "type": "mesh3d"
           }
          ],
          "parcoords": [
           {
            "line": {
             "colorbar": {
              "outlinewidth": 0,
              "ticks": ""
             }
            },
            "type": "parcoords"
           }
          ],
          "pie": [
           {
            "automargin": true,
            "type": "pie"
           }
          ],
          "scatter": [
           {
            "marker": {
             "colorbar": {
              "outlinewidth": 0,
              "ticks": ""
             }
            },
            "type": "scatter"
           }
          ],
          "scatter3d": [
           {
            "line": {
             "colorbar": {
              "outlinewidth": 0,
              "ticks": ""
             }
            },
            "marker": {
             "colorbar": {
              "outlinewidth": 0,
              "ticks": ""
             }
            },
            "type": "scatter3d"
           }
          ],
          "scattercarpet": [
           {
            "marker": {
             "colorbar": {
              "outlinewidth": 0,
              "ticks": ""
             }
            },
            "type": "scattercarpet"
           }
          ],
          "scattergeo": [
           {
            "marker": {
             "colorbar": {
              "outlinewidth": 0,
              "ticks": ""
             }
            },
            "type": "scattergeo"
           }
          ],
          "scattergl": [
           {
            "marker": {
             "colorbar": {
              "outlinewidth": 0,
              "ticks": ""
             }
            },
            "type": "scattergl"
           }
          ],
          "scattermapbox": [
           {
            "marker": {
             "colorbar": {
              "outlinewidth": 0,
              "ticks": ""
             }
            },
            "type": "scattermapbox"
           }
          ],
          "scatterpolar": [
           {
            "marker": {
             "colorbar": {
              "outlinewidth": 0,
              "ticks": ""
             }
            },
            "type": "scatterpolar"
           }
          ],
          "scatterpolargl": [
           {
            "marker": {
             "colorbar": {
              "outlinewidth": 0,
              "ticks": ""
             }
            },
            "type": "scatterpolargl"
           }
          ],
          "scatterternary": [
           {
            "marker": {
             "colorbar": {
              "outlinewidth": 0,
              "ticks": ""
             }
            },
            "type": "scatterternary"
           }
          ],
          "surface": [
           {
            "colorbar": {
             "outlinewidth": 0,
             "ticks": ""
            },
            "colorscale": [
             [
              0,
              "#0d0887"
             ],
             [
              0.1111111111111111,
              "#46039f"
             ],
             [
              0.2222222222222222,
              "#7201a8"
             ],
             [
              0.3333333333333333,
              "#9c179e"
             ],
             [
              0.4444444444444444,
              "#bd3786"
             ],
             [
              0.5555555555555556,
              "#d8576b"
             ],
             [
              0.6666666666666666,
              "#ed7953"
             ],
             [
              0.7777777777777778,
              "#fb9f3a"
             ],
             [
              0.8888888888888888,
              "#fdca26"
             ],
             [
              1,
              "#f0f921"
             ]
            ],
            "type": "surface"
           }
          ],
          "table": [
           {
            "cells": {
             "fill": {
              "color": "#EBF0F8"
             },
             "line": {
              "color": "white"
             }
            },
            "header": {
             "fill": {
              "color": "#C8D4E3"
             },
             "line": {
              "color": "white"
             }
            },
            "type": "table"
           }
          ]
         },
         "layout": {
          "annotationdefaults": {
           "arrowcolor": "#2a3f5f",
           "arrowhead": 0,
           "arrowwidth": 1
          },
          "coloraxis": {
           "colorbar": {
            "outlinewidth": 0,
            "ticks": ""
           }
          },
          "colorscale": {
           "diverging": [
            [
             0,
             "#8e0152"
            ],
            [
             0.1,
             "#c51b7d"
            ],
            [
             0.2,
             "#de77ae"
            ],
            [
             0.3,
             "#f1b6da"
            ],
            [
             0.4,
             "#fde0ef"
            ],
            [
             0.5,
             "#f7f7f7"
            ],
            [
             0.6,
             "#e6f5d0"
            ],
            [
             0.7,
             "#b8e186"
            ],
            [
             0.8,
             "#7fbc41"
            ],
            [
             0.9,
             "#4d9221"
            ],
            [
             1,
             "#276419"
            ]
           ],
           "sequential": [
            [
             0,
             "#0d0887"
            ],
            [
             0.1111111111111111,
             "#46039f"
            ],
            [
             0.2222222222222222,
             "#7201a8"
            ],
            [
             0.3333333333333333,
             "#9c179e"
            ],
            [
             0.4444444444444444,
             "#bd3786"
            ],
            [
             0.5555555555555556,
             "#d8576b"
            ],
            [
             0.6666666666666666,
             "#ed7953"
            ],
            [
             0.7777777777777778,
             "#fb9f3a"
            ],
            [
             0.8888888888888888,
             "#fdca26"
            ],
            [
             1,
             "#f0f921"
            ]
           ],
           "sequentialminus": [
            [
             0,
             "#0d0887"
            ],
            [
             0.1111111111111111,
             "#46039f"
            ],
            [
             0.2222222222222222,
             "#7201a8"
            ],
            [
             0.3333333333333333,
             "#9c179e"
            ],
            [
             0.4444444444444444,
             "#bd3786"
            ],
            [
             0.5555555555555556,
             "#d8576b"
            ],
            [
             0.6666666666666666,
             "#ed7953"
            ],
            [
             0.7777777777777778,
             "#fb9f3a"
            ],
            [
             0.8888888888888888,
             "#fdca26"
            ],
            [
             1,
             "#f0f921"
            ]
           ]
          },
          "colorway": [
           "#636efa",
           "#EF553B",
           "#00cc96",
           "#ab63fa",
           "#FFA15A",
           "#19d3f3",
           "#FF6692",
           "#B6E880",
           "#FF97FF",
           "#FECB52"
          ],
          "font": {
           "color": "#2a3f5f"
          },
          "geo": {
           "bgcolor": "white",
           "lakecolor": "white",
           "landcolor": "#E5ECF6",
           "showlakes": true,
           "showland": true,
           "subunitcolor": "white"
          },
          "hoverlabel": {
           "align": "left"
          },
          "hovermode": "closest",
          "mapbox": {
           "style": "light"
          },
          "paper_bgcolor": "white",
          "plot_bgcolor": "#E5ECF6",
          "polar": {
           "angularaxis": {
            "gridcolor": "white",
            "linecolor": "white",
            "ticks": ""
           },
           "bgcolor": "#E5ECF6",
           "radialaxis": {
            "gridcolor": "white",
            "linecolor": "white",
            "ticks": ""
           }
          },
          "scene": {
           "xaxis": {
            "backgroundcolor": "#E5ECF6",
            "gridcolor": "white",
            "gridwidth": 2,
            "linecolor": "white",
            "showbackground": true,
            "ticks": "",
            "zerolinecolor": "white"
           },
           "yaxis": {
            "backgroundcolor": "#E5ECF6",
            "gridcolor": "white",
            "gridwidth": 2,
            "linecolor": "white",
            "showbackground": true,
            "ticks": "",
            "zerolinecolor": "white"
           },
           "zaxis": {
            "backgroundcolor": "#E5ECF6",
            "gridcolor": "white",
            "gridwidth": 2,
            "linecolor": "white",
            "showbackground": true,
            "ticks": "",
            "zerolinecolor": "white"
           }
          },
          "shapedefaults": {
           "line": {
            "color": "#2a3f5f"
           }
          },
          "ternary": {
           "aaxis": {
            "gridcolor": "white",
            "linecolor": "white",
            "ticks": ""
           },
           "baxis": {
            "gridcolor": "white",
            "linecolor": "white",
            "ticks": ""
           },
           "bgcolor": "#E5ECF6",
           "caxis": {
            "gridcolor": "white",
            "linecolor": "white",
            "ticks": ""
           }
          },
          "title": {
           "x": 0.05
          },
          "xaxis": {
           "automargin": true,
           "gridcolor": "white",
           "linecolor": "white",
           "ticks": "",
           "title": {
            "standoff": 15
           },
           "zerolinecolor": "white",
           "zerolinewidth": 2
          },
          "yaxis": {
           "automargin": true,
           "gridcolor": "white",
           "linecolor": "white",
           "ticks": "",
           "title": {
            "standoff": 15
           },
           "zerolinecolor": "white",
           "zerolinewidth": 2
          }
         }
        },
        "title": {
         "text": "Feature Importance"
        },
        "yaxis": {
         "title": {
          "text": "Relative importance [%]"
         }
        }
       }
      },
      "text/html": [
       "<div>\n",
       "        \n",
       "        \n",
       "            <div id=\"04e1c9fe-13ea-47fb-a23d-b474854ef353\" class=\"plotly-graph-div\" style=\"height:525px; width:100%;\"></div>\n",
       "            <script type=\"text/javascript\">\n",
       "                require([\"plotly\"], function(Plotly) {\n",
       "                    window.PLOTLYENV=window.PLOTLYENV || {};\n",
       "                    \n",
       "                if (document.getElementById(\"04e1c9fe-13ea-47fb-a23d-b474854ef353\")) {\n",
       "                    Plotly.newPlot(\n",
       "                        '04e1c9fe-13ea-47fb-a23d-b474854ef353',\n",
       "                        [{\"name\": \"RFC\", \"type\": \"bar\", \"x\": [\"rA\", \"rB\", \"MA\", \"MB\", \"dAO\", \"dBO\", \"rA/rO\", \"rB/rO\", \"t\"], \"y\": [0.07176673784906495, 0.12942084414948604, 0.06550038099860533, 0.0941675167577392, 0.147908460094524, 0.050731846977859714, 0.09623745004899384, 0.1737399537265151, 0.17052680939721188]}, {\"name\": \"GTBC\", \"type\": \"bar\", \"x\": [\"rA\", \"rB\", \"MA\", \"MB\", \"dAO\", \"dBO\", \"rA/rO\", \"rB/rO\", \"t\"], \"y\": [0.028284634017343324, 0.03403208815427427, 0.014260368279441459, 0.06591815709548837, 0.31380042737460834, 0.015231302863842694, 0.015088527360404289, 0.07307226219840801, 0.44031223265618924]}],\n",
       "                        {\"barmode\": \"group\", \"template\": {\"data\": {\"bar\": [{\"error_x\": {\"color\": \"#2a3f5f\"}, \"error_y\": {\"color\": \"#2a3f5f\"}, \"marker\": {\"line\": {\"color\": \"#E5ECF6\", \"width\": 0.5}}, \"type\": \"bar\"}], \"barpolar\": [{\"marker\": {\"line\": {\"color\": \"#E5ECF6\", \"width\": 0.5}}, \"type\": \"barpolar\"}], \"carpet\": [{\"aaxis\": {\"endlinecolor\": \"#2a3f5f\", \"gridcolor\": \"white\", \"linecolor\": \"white\", \"minorgridcolor\": \"white\", \"startlinecolor\": \"#2a3f5f\"}, \"baxis\": {\"endlinecolor\": \"#2a3f5f\", \"gridcolor\": \"white\", \"linecolor\": \"white\", \"minorgridcolor\": \"white\", \"startlinecolor\": \"#2a3f5f\"}, \"type\": \"carpet\"}], \"choropleth\": [{\"colorbar\": {\"outlinewidth\": 0, \"ticks\": \"\"}, \"type\": \"choropleth\"}], \"contour\": [{\"colorbar\": {\"outlinewidth\": 0, \"ticks\": \"\"}, \"colorscale\": [[0.0, \"#0d0887\"], [0.1111111111111111, \"#46039f\"], [0.2222222222222222, \"#7201a8\"], [0.3333333333333333, \"#9c179e\"], [0.4444444444444444, \"#bd3786\"], [0.5555555555555556, \"#d8576b\"], [0.6666666666666666, \"#ed7953\"], [0.7777777777777778, \"#fb9f3a\"], [0.8888888888888888, \"#fdca26\"], [1.0, \"#f0f921\"]], \"type\": \"contour\"}], \"contourcarpet\": [{\"colorbar\": {\"outlinewidth\": 0, \"ticks\": \"\"}, \"type\": \"contourcarpet\"}], \"heatmap\": [{\"colorbar\": {\"outlinewidth\": 0, \"ticks\": \"\"}, \"colorscale\": [[0.0, \"#0d0887\"], [0.1111111111111111, \"#46039f\"], [0.2222222222222222, \"#7201a8\"], [0.3333333333333333, \"#9c179e\"], [0.4444444444444444, \"#bd3786\"], [0.5555555555555556, \"#d8576b\"], [0.6666666666666666, \"#ed7953\"], [0.7777777777777778, \"#fb9f3a\"], [0.8888888888888888, \"#fdca26\"], [1.0, \"#f0f921\"]], \"type\": \"heatmap\"}], \"heatmapgl\": [{\"colorbar\": {\"outlinewidth\": 0, \"ticks\": \"\"}, \"colorscale\": [[0.0, \"#0d0887\"], [0.1111111111111111, \"#46039f\"], [0.2222222222222222, \"#7201a8\"], [0.3333333333333333, \"#9c179e\"], [0.4444444444444444, \"#bd3786\"], [0.5555555555555556, \"#d8576b\"], [0.6666666666666666, \"#ed7953\"], [0.7777777777777778, \"#fb9f3a\"], [0.8888888888888888, \"#fdca26\"], [1.0, \"#f0f921\"]], \"type\": \"heatmapgl\"}], \"histogram\": [{\"marker\": {\"colorbar\": {\"outlinewidth\": 0, \"ticks\": \"\"}}, \"type\": \"histogram\"}], \"histogram2d\": [{\"colorbar\": {\"outlinewidth\": 0, \"ticks\": \"\"}, \"colorscale\": [[0.0, \"#0d0887\"], [0.1111111111111111, \"#46039f\"], [0.2222222222222222, \"#7201a8\"], [0.3333333333333333, \"#9c179e\"], [0.4444444444444444, \"#bd3786\"], [0.5555555555555556, \"#d8576b\"], [0.6666666666666666, \"#ed7953\"], [0.7777777777777778, \"#fb9f3a\"], [0.8888888888888888, \"#fdca26\"], [1.0, \"#f0f921\"]], \"type\": \"histogram2d\"}], \"histogram2dcontour\": [{\"colorbar\": {\"outlinewidth\": 0, \"ticks\": \"\"}, \"colorscale\": [[0.0, \"#0d0887\"], [0.1111111111111111, \"#46039f\"], [0.2222222222222222, \"#7201a8\"], [0.3333333333333333, \"#9c179e\"], [0.4444444444444444, \"#bd3786\"], [0.5555555555555556, \"#d8576b\"], [0.6666666666666666, \"#ed7953\"], [0.7777777777777778, \"#fb9f3a\"], [0.8888888888888888, \"#fdca26\"], [1.0, \"#f0f921\"]], \"type\": \"histogram2dcontour\"}], \"mesh3d\": [{\"colorbar\": {\"outlinewidth\": 0, \"ticks\": \"\"}, \"type\": \"mesh3d\"}], \"parcoords\": [{\"line\": {\"colorbar\": {\"outlinewidth\": 0, \"ticks\": \"\"}}, \"type\": \"parcoords\"}], \"pie\": [{\"automargin\": true, \"type\": \"pie\"}], \"scatter\": [{\"marker\": {\"colorbar\": {\"outlinewidth\": 0, \"ticks\": \"\"}}, \"type\": \"scatter\"}], \"scatter3d\": [{\"line\": {\"colorbar\": {\"outlinewidth\": 0, \"ticks\": \"\"}}, \"marker\": {\"colorbar\": {\"outlinewidth\": 0, \"ticks\": \"\"}}, \"type\": \"scatter3d\"}], \"scattercarpet\": [{\"marker\": {\"colorbar\": {\"outlinewidth\": 0, \"ticks\": \"\"}}, \"type\": \"scattercarpet\"}], \"scattergeo\": [{\"marker\": {\"colorbar\": {\"outlinewidth\": 0, \"ticks\": \"\"}}, \"type\": \"scattergeo\"}], \"scattergl\": [{\"marker\": {\"colorbar\": {\"outlinewidth\": 0, \"ticks\": \"\"}}, \"type\": \"scattergl\"}], \"scattermapbox\": [{\"marker\": {\"colorbar\": {\"outlinewidth\": 0, \"ticks\": \"\"}}, \"type\": \"scattermapbox\"}], \"scatterpolar\": [{\"marker\": {\"colorbar\": {\"outlinewidth\": 0, \"ticks\": \"\"}}, \"type\": \"scatterpolar\"}], \"scatterpolargl\": [{\"marker\": {\"colorbar\": {\"outlinewidth\": 0, \"ticks\": \"\"}}, \"type\": \"scatterpolargl\"}], \"scatterternary\": [{\"marker\": {\"colorbar\": {\"outlinewidth\": 0, \"ticks\": \"\"}}, \"type\": \"scatterternary\"}], \"surface\": [{\"colorbar\": {\"outlinewidth\": 0, \"ticks\": \"\"}, \"colorscale\": [[0.0, \"#0d0887\"], [0.1111111111111111, \"#46039f\"], [0.2222222222222222, \"#7201a8\"], [0.3333333333333333, \"#9c179e\"], [0.4444444444444444, \"#bd3786\"], [0.5555555555555556, \"#d8576b\"], [0.6666666666666666, \"#ed7953\"], [0.7777777777777778, \"#fb9f3a\"], [0.8888888888888888, \"#fdca26\"], [1.0, \"#f0f921\"]], \"type\": \"surface\"}], \"table\": [{\"cells\": {\"fill\": {\"color\": \"#EBF0F8\"}, \"line\": {\"color\": \"white\"}}, \"header\": {\"fill\": {\"color\": \"#C8D4E3\"}, \"line\": {\"color\": \"white\"}}, \"type\": \"table\"}]}, \"layout\": {\"annotationdefaults\": {\"arrowcolor\": \"#2a3f5f\", \"arrowhead\": 0, \"arrowwidth\": 1}, \"coloraxis\": {\"colorbar\": {\"outlinewidth\": 0, \"ticks\": \"\"}}, \"colorscale\": {\"diverging\": [[0, \"#8e0152\"], [0.1, \"#c51b7d\"], [0.2, \"#de77ae\"], [0.3, \"#f1b6da\"], [0.4, \"#fde0ef\"], [0.5, \"#f7f7f7\"], [0.6, \"#e6f5d0\"], [0.7, \"#b8e186\"], [0.8, \"#7fbc41\"], [0.9, \"#4d9221\"], [1, \"#276419\"]], \"sequential\": [[0.0, \"#0d0887\"], [0.1111111111111111, \"#46039f\"], [0.2222222222222222, \"#7201a8\"], [0.3333333333333333, \"#9c179e\"], [0.4444444444444444, \"#bd3786\"], [0.5555555555555556, \"#d8576b\"], [0.6666666666666666, \"#ed7953\"], [0.7777777777777778, \"#fb9f3a\"], [0.8888888888888888, \"#fdca26\"], [1.0, \"#f0f921\"]], \"sequentialminus\": [[0.0, \"#0d0887\"], [0.1111111111111111, \"#46039f\"], [0.2222222222222222, \"#7201a8\"], [0.3333333333333333, \"#9c179e\"], [0.4444444444444444, \"#bd3786\"], [0.5555555555555556, \"#d8576b\"], [0.6666666666666666, \"#ed7953\"], [0.7777777777777778, \"#fb9f3a\"], [0.8888888888888888, \"#fdca26\"], [1.0, \"#f0f921\"]]}, \"colorway\": [\"#636efa\", \"#EF553B\", \"#00cc96\", \"#ab63fa\", \"#FFA15A\", \"#19d3f3\", \"#FF6692\", \"#B6E880\", \"#FF97FF\", \"#FECB52\"], \"font\": {\"color\": \"#2a3f5f\"}, \"geo\": {\"bgcolor\": \"white\", \"lakecolor\": \"white\", \"landcolor\": \"#E5ECF6\", \"showlakes\": true, \"showland\": true, \"subunitcolor\": \"white\"}, \"hoverlabel\": {\"align\": \"left\"}, \"hovermode\": \"closest\", \"mapbox\": {\"style\": \"light\"}, \"paper_bgcolor\": \"white\", \"plot_bgcolor\": \"#E5ECF6\", \"polar\": {\"angularaxis\": {\"gridcolor\": \"white\", \"linecolor\": \"white\", \"ticks\": \"\"}, \"bgcolor\": \"#E5ECF6\", \"radialaxis\": {\"gridcolor\": \"white\", \"linecolor\": \"white\", \"ticks\": \"\"}}, \"scene\": {\"xaxis\": {\"backgroundcolor\": \"#E5ECF6\", \"gridcolor\": \"white\", \"gridwidth\": 2, \"linecolor\": \"white\", \"showbackground\": true, \"ticks\": \"\", \"zerolinecolor\": \"white\"}, \"yaxis\": {\"backgroundcolor\": \"#E5ECF6\", \"gridcolor\": \"white\", \"gridwidth\": 2, \"linecolor\": \"white\", \"showbackground\": true, \"ticks\": \"\", \"zerolinecolor\": \"white\"}, \"zaxis\": {\"backgroundcolor\": \"#E5ECF6\", \"gridcolor\": \"white\", \"gridwidth\": 2, \"linecolor\": \"white\", \"showbackground\": true, \"ticks\": \"\", \"zerolinecolor\": \"white\"}}, \"shapedefaults\": {\"line\": {\"color\": \"#2a3f5f\"}}, \"ternary\": {\"aaxis\": {\"gridcolor\": \"white\", \"linecolor\": \"white\", \"ticks\": \"\"}, \"baxis\": {\"gridcolor\": \"white\", \"linecolor\": \"white\", \"ticks\": \"\"}, \"bgcolor\": \"#E5ECF6\", \"caxis\": {\"gridcolor\": \"white\", \"linecolor\": \"white\", \"ticks\": \"\"}}, \"title\": {\"x\": 0.05}, \"xaxis\": {\"automargin\": true, \"gridcolor\": \"white\", \"linecolor\": \"white\", \"ticks\": \"\", \"title\": {\"standoff\": 15}, \"zerolinecolor\": \"white\", \"zerolinewidth\": 2}, \"yaxis\": {\"automargin\": true, \"gridcolor\": \"white\", \"linecolor\": \"white\", \"ticks\": \"\", \"title\": {\"standoff\": 15}, \"zerolinecolor\": \"white\", \"zerolinewidth\": 2}}}, \"title\": {\"text\": \"Feature Importance\"}, \"yaxis\": {\"title\": {\"text\": \"Relative importance [%]\"}}},\n",
       "                        {\"responsive\": true}\n",
       "                    ).then(function(){\n",
       "                            \n",
       "var gd = document.getElementById('04e1c9fe-13ea-47fb-a23d-b474854ef353');\n",
       "var x = new MutationObserver(function (mutations, observer) {{\n",
       "        var display = window.getComputedStyle(gd).display;\n",
       "        if (!display || display === 'none') {{\n",
       "            console.log([gd, 'removed!']);\n",
       "            Plotly.purge(gd);\n",
       "            observer.disconnect();\n",
       "        }}\n",
       "}});\n",
       "\n",
       "// Listen for the removal of the full notebook cells\n",
       "var notebookContainer = gd.closest('#notebook-container');\n",
       "if (notebookContainer) {{\n",
       "    x.observe(notebookContainer, {childList: true});\n",
       "}}\n",
       "\n",
       "// Listen for the clearing of the current output cell\n",
       "var outputEl = gd.closest('.output');\n",
       "if (outputEl) {{\n",
       "    x.observe(outputEl, {childList: true});\n",
       "}}\n",
       "\n",
       "                        })\n",
       "                };\n",
       "                });\n",
       "            </script>\n",
       "        </div>"
      ]
     },
     "metadata": {},
     "output_type": "display_data"
    }
   ],
   "source": [
    "import plotly.graph_objects as go\n",
    "    \n",
    "fig = go.Figure (\n",
    "    data=[\n",
    "        go.Bar(name='RFC', x=X.columns.values, y=randomForrest['relativeImportance']),\n",
    "        go.Bar(name='GTBC', x=X.columns.values, y=gradientBoost['relativeImportance'])\n",
    "    ], \n",
    "    layout = go.Layout (\n",
    "        title=go.layout.Title(text=\"Feature Importance\"),\n",
    "        yaxis=dict(title='Relative importance [%]'),\n",
    "        barmode='group'\n",
    "        )\n",
    "    )\n",
    "fig.show()\n"
   ]
  },
  {
   "cell_type": "code",
   "execution_count": null,
   "metadata": {},
   "outputs": [],
   "source": []
  },
  {
   "cell_type": "code",
   "execution_count": null,
   "metadata": {},
   "outputs": [],
   "source": []
  },
  {
   "cell_type": "code",
   "execution_count": null,
   "metadata": {},
   "outputs": [],
   "source": []
  },
  {
   "cell_type": "code",
   "execution_count": null,
   "metadata": {},
   "outputs": [],
   "source": []
  },
  {
   "cell_type": "code",
   "execution_count": null,
   "metadata": {},
   "outputs": [],
   "source": []
  }
 ],
 "metadata": {
  "kernelspec": {
   "display_name": "Python 3",
   "language": "python",
   "name": "python3"
  },
  "language_info": {
   "codemirror_mode": {
    "name": "ipython",
    "version": 3
   },
   "file_extension": ".py",
   "mimetype": "text/x-python",
   "name": "python",
   "nbconvert_exporter": "python",
   "pygments_lexer": "ipython3",
   "version": "3.8.5"
  }
 },
 "nbformat": 4,
 "nbformat_minor": 4
}
