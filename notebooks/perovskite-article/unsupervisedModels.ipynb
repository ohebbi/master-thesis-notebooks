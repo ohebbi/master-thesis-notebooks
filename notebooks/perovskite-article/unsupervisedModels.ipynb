{
 "cells": [
  {
   "cell_type": "markdown",
   "metadata": {},
   "source": [
    "# Unsupervised models\n",
    "\n",
    "In this notebook, we will indulge into different unsupervised models.\n",
    "\n",
    "So far, this includes kmeans. We will be using the library of scikitlearn to do this.\n",
    "\n",
    "Starting off with some basic imports. "
   ]
  },
  {
   "cell_type": "code",
   "execution_count": 25,
   "metadata": {},
   "outputs": [],
   "source": [
    "import pandas as pd\n",
    "import numpy as np\n",
    "import matplotlib.pyplot as plt\n",
    "import plotly.graph_objs as go\n",
    "\n",
    "import warnings\n",
    "warnings.simplefilter(action='ignore', category=FutureWarning)\n",
    "\n",
    "#Models\n",
    "from sklearn.cluster import KMeans\n",
    "\n",
    "#Feature selections\n",
    "from sklearn.model_selection import RepeatedStratifiedKFold\n",
    "from sklearn.feature_selection import SelectFromModel\n",
    "from sklearn.decomposition import PCA\n",
    "\n",
    "#metrics and nice visualization\n",
    "from sklearn.metrics import f1_score, confusion_matrix\n",
    "from tqdm import tqdm\n",
    "\n",
    "# setting random seed for reproducibility\n",
    "random_state=98127480"
   ]
  },
  {
   "cell_type": "markdown",
   "metadata": {},
   "source": [
    "Then we can read the preprocessed data by using pandas library. "
   ]
  },
  {
   "cell_type": "code",
   "execution_count": 2,
   "metadata": {},
   "outputs": [
    {
     "data": {
      "text/html": [
       "<div>\n",
       "<style scoped>\n",
       "    .dataframe tbody tr th:only-of-type {\n",
       "        vertical-align: middle;\n",
       "    }\n",
       "\n",
       "    .dataframe tbody tr th {\n",
       "        vertical-align: top;\n",
       "    }\n",
       "\n",
       "    .dataframe thead th {\n",
       "        text-align: right;\n",
       "    }\n",
       "</style>\n",
       "<table border=\"1\" class=\"dataframe\">\n",
       "  <thead>\n",
       "    <tr style=\"text-align: right;\">\n",
       "      <th></th>\n",
       "      <th>rA</th>\n",
       "      <th>rB</th>\n",
       "      <th>MA</th>\n",
       "      <th>MB</th>\n",
       "      <th>dAO</th>\n",
       "      <th>dBO</th>\n",
       "      <th>rA/rO</th>\n",
       "      <th>rB/rO</th>\n",
       "      <th>t</th>\n",
       "    </tr>\n",
       "  </thead>\n",
       "  <tbody>\n",
       "    <tr>\n",
       "      <th>0</th>\n",
       "      <td>1.46</td>\n",
       "      <td>0.76</td>\n",
       "      <td>65</td>\n",
       "      <td>86</td>\n",
       "      <td>1.805</td>\n",
       "      <td>2.060</td>\n",
       "      <td>1.081</td>\n",
       "      <td>0.563</td>\n",
       "      <td>0.942</td>\n",
       "    </tr>\n",
       "    <tr>\n",
       "      <th>1</th>\n",
       "      <td>1.46</td>\n",
       "      <td>0.47</td>\n",
       "      <td>65</td>\n",
       "      <td>95</td>\n",
       "      <td>1.805</td>\n",
       "      <td>1.840</td>\n",
       "      <td>1.081</td>\n",
       "      <td>0.348</td>\n",
       "      <td>1.092</td>\n",
       "    </tr>\n",
       "    <tr>\n",
       "      <th>2</th>\n",
       "      <td>1.46</td>\n",
       "      <td>0.13</td>\n",
       "      <td>65</td>\n",
       "      <td>82</td>\n",
       "      <td>1.805</td>\n",
       "      <td>1.432</td>\n",
       "      <td>1.081</td>\n",
       "      <td>0.096</td>\n",
       "      <td>1.343</td>\n",
       "    </tr>\n",
       "    <tr>\n",
       "      <th>3</th>\n",
       "      <td>1.46</td>\n",
       "      <td>0.38</td>\n",
       "      <td>65</td>\n",
       "      <td>83</td>\n",
       "      <td>1.805</td>\n",
       "      <td>1.604</td>\n",
       "      <td>1.081</td>\n",
       "      <td>0.281</td>\n",
       "      <td>1.149</td>\n",
       "    </tr>\n",
       "    <tr>\n",
       "      <th>4</th>\n",
       "      <td>1.46</td>\n",
       "      <td>0.60</td>\n",
       "      <td>65</td>\n",
       "      <td>85</td>\n",
       "      <td>1.805</td>\n",
       "      <td>1.942</td>\n",
       "      <td>1.081</td>\n",
       "      <td>0.444</td>\n",
       "      <td>1.019</td>\n",
       "    </tr>\n",
       "  </tbody>\n",
       "</table>\n",
       "</div>"
      ],
      "text/plain": [
       "     rA    rB  MA  MB    dAO    dBO  rA/rO  rB/rO      t\n",
       "0  1.46  0.76  65  86  1.805  2.060  1.081  0.563  0.942\n",
       "1  1.46  0.47  65  95  1.805  1.840  1.081  0.348  1.092\n",
       "2  1.46  0.13  65  82  1.805  1.432  1.081  0.096  1.343\n",
       "3  1.46  0.38  65  83  1.805  1.604  1.081  0.281  1.149\n",
       "4  1.46  0.60  65  85  1.805  1.942  1.081  0.444  1.019"
      ]
     },
     "execution_count": 2,
     "metadata": {},
     "output_type": "execute_result"
    }
   ],
   "source": [
    "X = pd.read_csv('preprocessed_data/X.csv')\n",
    "y = pd.read_csv('preprocessed_data/target.csv')\n",
    "data = pd.read_csv('preprocessed_data/data.csv')\n",
    "X.head()"
   ]
  },
  {
   "cell_type": "code",
   "execution_count": null,
   "metadata": {},
   "outputs": [],
   "source": []
  },
  {
   "cell_type": "code",
   "execution_count": null,
   "metadata": {},
   "outputs": [],
   "source": []
  },
  {
   "cell_type": "markdown",
   "metadata": {},
   "source": [
    "# A model for predicting perovskite or not"
   ]
  },
  {
   "cell_type": "markdown",
   "metadata": {
    "scrolled": false
   },
   "source": [
    "To begin with, we would like to validate the algorithm on the training data."
   ]
  },
  {
   "cell_type": "code",
   "execution_count": 36,
   "metadata": {
    "scrolled": false
   },
   "outputs": [
    {
     "name": "stdout",
     "output_type": "stream",
     "text": [
      "[409861.81073791947, 203059.14741361764, 129200.5805859625, 96384.26479251862, 65703.08930952329, 46279.73470603934, 38027.25038409545, 34188.11168943404, 31018.292437134343]\n"
     ]
    }
   ],
   "source": [
    "from sklearn.preprocessing import StandardScaler\n",
    "import matplotlib.pyplot as plt\n",
    "from scipy.stats import mode\n",
    "from sklearn.metrics import accuracy_score\n",
    "from sklearn.manifold import TSNE\n",
    "\n",
    "\n",
    "def runUnsupervisedModel(X, n_clusters = 4, preprocessing = False):\n",
    "\n",
    "    if preprocessing == True:\n",
    "        # Project the data: this step will take several seconds\n",
    "        tsne = TSNE(n_components=2, init='random', random_state=0)\n",
    "        digits_proj = tsne.fit_transform(X)\n",
    "        print(digits_proj.shape)\n",
    "        print(X)\n",
    "        kmeans = KMeans(n_clusters=n_clusters, random_state=random_state)\n",
    "    \n",
    "        clusters = kmeans.fit_predict(digits_proj)\n",
    "        kmeans.cluster_centers_.shape\n",
    "    \n",
    "        labels = np.zeros_like(clusters)\n",
    "        for i in range(10):\n",
    "            mask = (clusters == i)\n",
    "            labels[mask] = mode(y.values.reshape(-1,)[mask])[0]\n",
    "      \n",
    "        print(accuracy_score(y, labels))\n",
    "        return labels\n",
    "    \n",
    "    sklearn_pca = PCA(n_components = 2)\n",
    "    Y_sklearn = sklearn_pca.fit_transform(X)\n",
    "    \n",
    "    #kmeans = KMeans(n_clusters=n_clusters, random_state=0).fit(X)\n",
    "    kmeans = [KMeans(n_clusters=i, max_iter = 600) for i in n_clusters]\n",
    "    score = [kmeans[i].fit(X).inertia_ for i in range(len(kmeans))]\n",
    "\n",
    "    return score\n",
    "\n",
    "number_clusters = range(1, 10)\n",
    "score = runUnsupervisedModel(X, n_clusters = number_clusters)\n",
    "print(score)"
   ]
  },
  {
   "cell_type": "code",
   "execution_count": 37,
   "metadata": {},
   "outputs": [
    {
     "data": {
      "image/png": "[encoded data removed]",
      "text/plain": [
       "<Figure size 432x288 with 1 Axes>"
      ]
     },
     "metadata": {
      "needs_background": "light"
     },
     "output_type": "display_data"
    }
   ],
   "source": [
    "plt.plot(number_clusters, score)\n",
    "plt.xlabel('Number of Clusters')\n",
    "plt.ylabel('Score')\n",
    "plt.title('Elbow Method')\n",
    "plt.show()"
   ]
  },
  {
   "cell_type": "code",
   "execution_count": 38,
   "metadata": {},
   "outputs": [
    {
     "name": "stdout",
     "output_type": "stream",
     "text": [
      "(390, 2)\n",
      "        rA     rB  MA  MB    dAO    dBO  rA/rO  rB/rO      t\n",
      "0    1.460  0.760  65  86  1.805  2.060  1.081  0.563  0.942\n",
      "1    1.460  0.470  65  95  1.805  1.840  1.081  0.348  1.092\n",
      "2    1.460  0.130  65  82  1.805  1.432  1.081  0.096  1.343\n",
      "3    1.460  0.380  65  83  1.805  1.604  1.081  0.281  1.149\n",
      "4    1.460  0.600  65  85  1.805  1.942  1.081  0.444  1.019\n",
      "..     ...    ...  ..  ..    ...    ...    ...    ...    ...\n",
      "385  1.196  0.645  12  52  2.014  1.732  0.886  0.478  0.902\n",
      "386  1.196  0.600  12  61  2.014  1.750  0.886  0.444  0.923\n",
      "387  1.196  0.745  12  11  2.014  1.849  0.886  0.552  0.859\n",
      "388  1.196  0.670  12  43  2.014  1.791  0.886  0.496  0.891\n",
      "389  1.196  0.640  12  46  2.014  1.749  0.886  0.474  0.905\n",
      "\n",
      "[390 rows x 9 columns]\n",
      "0.7692307692307693\n"
     ]
    },
    {
     "data": {
      "image/png": "[encoded data removed]",
      "text/plain": [
       "<Figure size 432x288 with 1 Axes>"
      ]
     },
     "metadata": {
      "needs_background": "light"
     },
     "output_type": "display_data"
    }
   ],
   "source": [
    "# kmeans with 2 clusters and comparing with the true labels. \n",
    "\n",
    "labels = runUnsupervisedModel(X, preprocessing = True)\n",
    "\n",
    "from sklearn.metrics import confusion_matrix\n",
    "import seaborn as sns \n",
    "mat = confusion_matrix(y.values.reshape(-1,), labels)\n",
    "sns.heatmap(mat.T, square=True, annot=True, fmt='d', cbar=False,\n",
    "            xticklabels=[0,1],\n",
    "            yticklabels=[0,1])\n",
    "plt.xlabel('true label')\n",
    "plt.ylabel('predicted label');\n",
    "plt.show()"
   ]
  },
  {
   "cell_type": "code",
   "execution_count": 39,
   "metadata": {},
   "outputs": [
    {
     "data": {
      "application/vnd.plotly.v1+json": {
       "config": {
        "plotlyServerURL": "https://plot.ly"
       },
       "data": [
        {
         "line": {
          "width": 1
         },
         "marker": {
          "color": [
           -1,
           -1,
           -1,
           -1,
           -1,
           -1,
           -1,
           -1,
           -1,
           -1,
           -1,
           -1,
           -1,
           -1,
           -1,
           -1,
           -1,
           -1,
           -1,
           -1,
           -1,
           -1,
           -1,
           -1,
           -1,
           -1,
           -1,
           -1,
           -1,
           -1,
           -1,
           -1,
           -1,
           -1,
           -1,
           -1,
           -1,
           -1,
           -1,
           -1,
           -1,
           -1,
           -1,
           -1,
           -1,
           -1,
           -1,
           -1,
           -1,
           -1,
           -1,
           -1,
           -1,
           -1,
           -1,
           -1,
           -1,
           -1,
           -1,
           -1,
           -1,
           -1,
           -1,
           -1,
           -1,
           -1,
           -1,
           -1,
           -1,
           -1,
           -1,
           -1,
           -1,
           -1,
           -1,
           -1,
           -1,
           -1,
           -1,
           -1,
           -1,
           -1,
           -1,
           -1,
           -1,
           -1,
           -1,
           -1,
           -1,
           -1,
           -1,
           -1,
           -1,
           -1,
           -1,
           -1,
           -1,
           -1,
           -1,
           -1,
           -1,
           -1,
           -1,
           -1,
           -1,
           -1,
           -1,
           -1,
           -1,
           -1,
           -1,
           -1,
           -1,
           -1,
           -1,
           -1,
           -1,
           -1,
           -1,
           -1,
           -1,
           -1,
           -1,
           -1,
           -1,
           -1,
           -1,
           -1,
           -1,
           -1,
           -1,
           -1,
           -1,
           -1,
           -1,
           -1,
           1,
           1,
           1,
           1,
           1,
           1,
           1,
           1,
           1,
           1,
           1,
           1,
           1,
           1,
           1,
           1,
           1,
           1,
           1,
           1,
           1,
           1,
           1,
           1,
           1,
           1,
           1,
           1,
           1,
           1,
           1,
           1,
           1,
           1,
           1,
           1,
           1,
           1,
           1,
           1,
           1,
           1,
           1,
           1,
           1,
           1,
           1,
           1,
           1,
           1,
           1,
           1,
           1,
           1,
           1,
           1,
           1,
           1,
           1,
           1,
           1,
           1,
           1,
           1,
           1,
           1,
           1,
           1,
           1,
           1,
           1,
           1,
           1,
           1,
           1,
           1,
           1,
           1,
           1,
           1,
           1,
           1,
           1,
           1,
           1,
           1,
           1,
           1,
           1,
           1,
           1,
           1,
           1,
           1,
           1,
           1,
           1,
           1,
           1,
           1,
           1,
           1,
           1,
           1,
           1,
           1,
           1,
           1,
           1,
           1,
           1,
           1,
           1,
           1,
           1,
           1,
           1,
           1,
           1,
           1,
           1,
           1,
           1,
           1,
           1,
           1,
           1,
           1,
           1,
           1,
           1,
           1,
           1,
           1,
           1,
           1,
           1,
           1,
           1,
           1,
           1,
           1,
           1,
           1,
           1,
           1,
           1,
           1,
           1,
           1,
           1,
           1,
           1,
           1,
           1,
           1,
           1,
           1,
           1,
           1,
           1,
           1,
           1,
           1,
           1,
           1,
           1,
           1,
           1,
           1,
           1,
           1,
           1,
           1,
           1,
           1,
           1,
           1,
           1,
           1,
           1,
           1,
           1,
           1,
           1,
           1,
           1,
           1,
           1,
           1,
           1,
           1,
           1,
           1,
           1,
           1,
           1,
           1,
           1,
           1,
           1,
           1,
           1,
           1,
           1,
           1,
           1,
           1,
           1,
           1,
           1,
           1,
           1,
           1,
           1,
           1,
           1,
           1,
           1,
           1,
           1,
           1,
           1,
           1,
           1,
           1,
           1,
           1,
           1,
           1,
           1,
           1,
           1,
           1,
           1,
           1,
           1,
           1,
           1,
           1,
           1,
           1,
           1,
           1,
           1,
           1,
           1,
           1,
           1,
           1,
           1,
           1,
           1,
           1
          ]
         },
         "mode": "markers",
         "text": [
          "AgBiO3",
          "AgBrO3",
          "AgNO3",
          "AgPO3",
          "AgSbO3",
          "AgVO3",
          "AlBO3",
          "AlFeO3",
          "BaCO3",
          "BaCoO3",
          "BaCrO3",
          "BaGeO3",
          "BaMnO3",
          "BaNiO3",
          "BaSiO3",
          "BaTeO3",
          "CaCO3",
          "CdCO3",
          "CdPbO3",
          "CdSeO3",
          "CdSO3",
          "CdTeO3",
          "CeDyO3",
          "CeErO3",
          "CeHoO3",
          "CoCO3",
          "CoGeO3",
          "CoMnO3",
          "CoSeO3",
          "CoSiO3",
          "CoTeO3",
          "CoTiO3",
          "CsBrO3",
          "CsNbO3",
          "CsVO3",
          "CuCO3",
          "CuGeO3",
          "CuNbO3",
          "CuSeO3",
          "CuSiO3",
          "CuTeO3",
          "CuVO3",
          "DyBO3",
          "ErBO3",
          "EuBO3",
          "FeBO3",
          "FeMnO3",
          "FeSiO3",
          "FeSO3",
          "FeTiO3",
          "GaFeO3",
          "GaInO3",
          "GdBO3",
          "HgSeO3",
          "HgTeO3",
          "HoBO3",
          "InBO3",
          "InFeO3",
          "InMnO3",
          "KBiO3",
          "KBrO3",
          "KNO3",
          "KPO3",
          "KSbO3",
          "KVO3",
          "LaBO3",
          "LaDyO3",
          "LiAsO3",
          "LiBiO3",
          "LiIO3",
          "LiNbO3",
          "LiNO3",
          "LiPO3",
          "LiReO3",
          "LiSbO3",
          "LiTaO3",
          "LiVO3",
          "LuBO3",
          "MgCO3",
          "MgGeO3",
          "MgSeO3",
          "MgTiO3",
          "MgVO3",
          "MnCO3",
          "MnGeO3",
          "MnSeO3",
          "MnSiO3",
          "MnSnO3",
          "MnSO3",
          "MnTiO3",
          "NaAsO3",
          "NaBiO3",
          "NaBrO3",
          "NaNO3",
          "NaPO3",
          "NaVO3",
          "NdDyO3",
          "NdLuO3",
          "NdYbO3",
          "NiMnO3",
          "NiSeO3",
          "NiTiO3",
          "PbCO3",
          "PbSeO3",
          "PbSiO3",
          "PbSO3",
          "PbTeO3",
          "PrDyO3",
          "PrErO3",
          "PrHoO3",
          "PrTmO3",
          "RbBrO3",
          "RbNO3",
          "RbPO3",
          "RbVO3",
          "SmBO3",
          "SmYO3",
          "SrCO3",
          "SrSiO3",
          "SrThO3",
          "TlBrO3",
          "TlLaO3",
          "TlNO3",
          "TlSbO3",
          "TlVO3",
          "TmBO3",
          "TmYO3",
          "YBO3",
          "YbYO3",
          "YInO3",
          "ZnGeO3",
          "ZnSeO3",
          "ZnSiO3",
          "ZnSnO3",
          "ZnTeO3",
          "ZnTiO3",
          "AgNbO3",
          "AgTaO3",
          "BaAmO3",
          "BaCeO3",
          "BaHfO3",
          "BaIrO3",
          "BaMoO3",
          "BaNbO3",
          "BaNpO3",
          "BaPaO3",
          "BaPbO3",
          "BaPrO3",
          "BaPuO3",
          "BaRuO3",
          "BaSnO3",
          "BaTbO3",
          "BaThO3",
          "BaTiO3",
          "BaUO3",
          "BaZrO3",
          "BiAlO3",
          "BiFeO3",
          "BiInO3",
          "BiMnO3",
          "BiScO3",
          "CaCrO3",
          "CaGeO3",
          "CaHfO3",
          "CaIrO3",
          "CaMnO3",
          "CaMoO3",
          "CaNbO3",
          "CaPbO3",
          "CaRuO3",
          "CaSiO3",
          "CaSnO3",
          "CaTiO3",
          "CaUO3",
          "CaVO3",
          "CaZrO3",
          "CdGeO3",
          "CdSnO3",
          "CdTiO3",
          "CeAlO3",
          "CeCrO3",
          "CeFeO3",
          "CeGaO3",
          "CeLuO3",
          "CeMnO3",
          "CeTiO3",
          "CeTmO3",
          "CeVO3",
          "CeYbO3",
          "CsIO3",
          "DyAlO3",
          "DyCoO3",
          "DyCrO3",
          "DyFeO3",
          "DyInO3",
          "DyMnO3",
          "DyNiO3",
          "DyRhO3",
          "DyScO3",
          "DyTiO3",
          "DyVO3",
          "ErAlO3",
          "ErCrO3",
          "ErFeO3",
          "ErMnO3",
          "ErNiO3",
          "ErRhO3",
          "ErTiO3",
          "ErVO3",
          "EuAlO3",
          "EuCrO3",
          "EuFeO3",
          "EuGaO3",
          "EuInO3",
          "EuMnO3",
          "EuNiO3",
          "EuRhO3",
          "EuScO3",
          "EuTiO3",
          "GdAlO3",
          "GdCoO3",
          "GdCrO3",
          "GdFeO3",
          "GdGaO3",
          "GdInO3",
          "GdMnO3",
          "GdNiO3",
          "GdRhO3",
          "GdScO3",
          "GdTiO3",
          "GdVO3",
          "HgTiO3",
          "HoAlO3",
          "HoCoO3",
          "HoCrO3",
          "HoFeO3",
          "HoMnO3",
          "HoNiO3",
          "HoRhO3",
          "HoScO3",
          "HoTiO3",
          "InCrO3",
          "InRhO3",
          "KIO3",
          "KNbO3",
          "KPaO3",
          "KTaO3",
          "KUO3",
          "LaAlO3",
          "LaCoO3",
          "LaCrO3",
          "LaCuO3",
          "LaErO3",
          "LaFeO3",
          "LaGaO3",
          "LaHoO3",
          "LaInO3",
          "LaLuO3",
          "LaMnO3",
          "LaNiO3",
          "LaRhO3",
          "LaRuO3",
          "LaScO3",
          "LaTiO3",
          "LaTmO3",
          "LaVO3",
          "LaYbO3",
          "LaYO3",
          "LuAlO3",
          "LuCrO3",
          "LuFeO3",
          "LuMnO3",
          "LuTiO3",
          "MgSiO3",
          "NaIO3",
          "NaNbO3",
          "NaPaO3",
          "NaSbO3",
          "NaTaO3",
          "NaUO3",
          "NaWO3",
          "NdAlO3",
          "NdCoO3",
          "NdCrO3",
          "NdFeO3",
          "NdGaO3",
          "NdInO3",
          "NdMnO3",
          "NdNiO3",
          "NdRhO3",
          "NdScO3",
          "NdTiO3",
          "NdVO3",
          "PbCeO3",
          "PbGeO3",
          "PbHfO3",
          "PbSnO3",
          "PbTiO3",
          "PbZrO3",
          "PrAlO3",
          "PrCoO3",
          "PrCrO3",
          "PrFeO3",
          "PrGaO3",
          "PrLuO3",
          "PrMnO3",
          "PrNiO3",
          "PrRhO3",
          "PrRuO3",
          "PrScO3",
          "PrTiO3",
          "PrVO3",
          "PrYbO3",
          "PuAlO3",
          "PuCrO3",
          "PuMnO3",
          "PuVO3",
          "RbIO3",
          "RbNbO3",
          "RbPaO3",
          "RbTaO3",
          "RbUO3",
          "ScAlO3",
          "ScCrO3",
          "SmAlO3",
          "SmCoO3",
          "SmCrO3",
          "SmFeO3",
          "SmInO3",
          "SmMnO3",
          "SmNiO3",
          "SmRhO3",
          "SmScO3",
          "SmTiO3",
          "SmVO3",
          "SrAmO3",
          "SrCeO3",
          "SrCoO3",
          "SrGeO3",
          "SrHfO3",
          "SrIrO3",
          "SrMnO3",
          "SrMoO3",
          "SrNbO3",
          "SrPbO3",
          "SrPrO3",
          "SrPuO3",
          "SrRuO3",
          "SrSnO3",
          "SrTbO3",
          "SrTeO3",
          "SrTiO3",
          "SrVO3",
          "SrZrO3",
          "TbAlO3",
          "TbCoO3",
          "TbCrO3",
          "TbFeO3",
          "TbMnO3",
          "TbRhO3",
          "TbTiO3",
          "TbVO3",
          "TlCrO3",
          "TlFeO3",
          "TlIO3",
          "TlNiO3",
          "TmAlO3",
          "TmCrO3",
          "TmFeO3",
          "TmNiO3",
          "TmTiO3",
          "TmVO3",
          "YAlO3",
          "YbAlO3",
          "YbCrO3",
          "YbFeO3",
          "YbGaO3",
          "YbMnO3",
          "YbNiO3",
          "YbTiO3",
          "YbVO3",
          "YCoO3",
          "YCrO3",
          "YFeO3",
          "YGaO3",
          "YMnO3",
          "YNiO3",
          "YScO3",
          "YTiO3",
          "YVO3"
         ],
         "type": "scattergl",
         "x": [
          0.942,
          1.092,
          1.3430000000000002,
          1.149,
          1.019,
          1.053,
          0.933,
          0.758,
          1.386,
          1.113,
          1.102,
          1.113,
          1.113,
          1.144,
          1.196,
          1.096,
          1.26,
          1.246,
          0.885,
          1.017,
          1.094,
          0.985,
          0.841,
          0.8490000000000001,
          0.845,
          1.137,
          0.913,
          0.913,
          0.928,
          0.981,
          0.899,
          0.878,
          1.255,
          1.148,
          1.208,
          1.1,
          0.884,
          0.818,
          0.898,
          0.949,
          0.87,
          0.861,
          1.113,
          1.104,
          1.13,
          1.001,
          0.911,
          0.979,
          0.996,
          0.8759999999999999,
          0.789,
          0.732,
          1.124,
          0.999,
          0.968,
          1.11,
          1.068,
          0.867,
          0.867,
          1.002,
          1.162,
          1.429,
          1.222,
          1.084,
          1.119,
          1.183,
          0.847,
          0.958,
          0.8220000000000001,
          0.754,
          0.872,
          1.172,
          1.003,
          0.899,
          0.89,
          0.872,
          0.918,
          1.091,
          1.129,
          0.906,
          0.921,
          0.872,
          0.883,
          1.163,
          0.934,
          0.949,
          1.003,
          0.861,
          1.021,
          0.898,
          1.07,
          0.918,
          1.065,
          1.3090000000000002,
          1.12,
          1.025,
          0.8190000000000001,
          0.838,
          0.835,
          0.858,
          0.872,
          0.825,
          1.33,
          1.086,
          1.148,
          1.168,
          1.051,
          0.833,
          0.841,
          0.8370000000000001,
          0.845,
          1.193,
          1.467,
          1.255,
          1.149,
          1.13,
          0.8140000000000001,
          1.307,
          1.127,
          0.861,
          1.185,
          0.732,
          1.457,
          1.106,
          1.141,
          1.1,
          0.792,
          1.111,
          0.789,
          0.8370000000000001,
          0.906,
          0.921,
          0.974,
          0.835,
          0.892,
          0.872,
          0.998,
          0.998,
          0.951,
          0.943,
          1.016,
          1.06,
          1.047,
          1.031,
          0.887,
          0.978,
          0.985,
          0.894,
          0.947,
          1.062,
          1.026,
          0.992,
          0.914,
          1.071,
          0.934,
          1.011,
          1.013,
          0.957,
          0.888,
          0.957,
          0.911,
          1.001,
          1.012,
          0.923,
          0.963,
          1.012,
          0.951,
          0.937,
          0.895,
          0.966,
          1.087,
          0.932,
          0.973,
          0.8490000000000001,
          0.986,
          0.919,
          1,
          0.922,
          0.962,
          1.009,
          0.968,
          0.953,
          0.966,
          0.86,
          0.953,
          0.942,
          0.853,
          0.956,
          0.858,
          0.993,
          0.957,
          0.92,
          0.918,
          0.904,
          0.8390000000000001,
          0.904,
          0.925,
          0.895,
          0.861,
          0.893,
          0.906,
          0.949,
          0.91,
          0.8959999999999999,
          0.8959999999999999,
          0.917,
          0.887,
          0.885,
          0.899,
          0.972,
          0.932,
          0.918,
          0.93,
          0.852,
          0.918,
          0.939,
          0.909,
          0.8740000000000001,
          0.937,
          0.966,
          0.929,
          0.926,
          0.912,
          0.924,
          0.847,
          0.912,
          0.933,
          0.903,
          0.8690000000000001,
          0.901,
          0.915,
          0.945,
          0.954,
          0.918,
          0.915,
          0.902,
          0.902,
          0.923,
          0.893,
          0.8590000000000001,
          0.8909999999999999,
          0.8809999999999999,
          0.8590000000000001,
          0.919,
          1.062,
          0.993,
          1.062,
          1.002,
          1.017,
          0.978,
          0.975,
          1.014,
          0.855,
          0.961,
          0.973,
          0.851,
          0.8909999999999999,
          0.867,
          0.961,
          0.983,
          0.951,
          0.944,
          0.915,
          0.949,
          0.8590000000000001,
          0.963,
          0.8640000000000001,
          0.852,
          0.938,
          0.9,
          0.8859999999999999,
          0.8859999999999999,
          0.875,
          0.974,
          0.8420000000000001,
          0.974,
          0.91,
          0.994,
          0.974,
          0.918,
          0.983,
          0.983,
          0.945,
          0.943,
          0.929,
          0.94,
          0.862,
          0.929,
          0.95,
          0.919,
          0.884,
          0.917,
          0.931,
          0.905,
          1.068,
          0.975,
          0.984,
          1.027,
          0.97,
          0.999,
          0.961,
          0.959,
          0.944,
          0.956,
          0.852,
          0.944,
          0.966,
          0.935,
          0.928,
          0.899,
          0.933,
          0.947,
          0.8490000000000001,
          0.915,
          0.878,
          0.865,
          0.867,
          0.944,
          1.091,
          1.019,
          1.091,
          1.029,
          0.833,
          0.799,
          0.972,
          0.934,
          0.932,
          0.918,
          0.852,
          0.918,
          0.939,
          0.909,
          0.8740000000000001,
          0.907,
          0.92,
          0.897,
          0.889,
          1.0490000000000002,
          1.0490000000000002,
          0.958,
          0.999,
          1.0490000000000002,
          0.986,
          0.972,
          0.928,
          0.843,
          0.893,
          1.001,
          0.967,
          0.935,
          1.033,
          1.009,
          1.022,
          0.953,
          0.962,
          0.925,
          0.923,
          0.909,
          0.909,
          0.9,
          0.898,
          0.911,
          0.887,
          0.8740000000000001,
          0.938,
          0.894,
          0.945,
          0.907,
          0.893,
          0.914,
          0.882,
          0.895,
          0.955,
          0.942,
          0.904,
          0.89,
          0.902,
          0.89,
          0.911,
          0.879,
          0.893,
          0.919,
          0.916,
          0.902,
          0.914,
          0.902,
          0.923,
          0.8590000000000001,
          0.8909999999999999,
          0.905
         ],
         "y": [
          0.563,
          0.348,
          0.096,
          0.281,
          0.444,
          0.4,
          0.2,
          0.478,
          0.119,
          0.393,
          0.407,
          0.393,
          0.393,
          0.35600000000000004,
          0.29600000000000004,
          0.415,
          0.119,
          0.119,
          0.574,
          0.37,
          0.274,
          0.415,
          0.6759999999999999,
          0.659,
          0.667,
          0.119,
          0.393,
          0.393,
          0.37,
          0.29600000000000004,
          0.415,
          0.448,
          0.348,
          0.474,
          0.4,
          0.119,
          0.393,
          0.504,
          0.37,
          0.29600000000000004,
          0.415,
          0.43,
          0.2,
          0.2,
          0.2,
          0.2,
          0.393,
          0.29600000000000004,
          0.274,
          0.448,
          0.478,
          0.593,
          0.2,
          0.37,
          0.415,
          0.2,
          0.2,
          0.478,
          0.478,
          0.563,
          0.348,
          0.096,
          0.281,
          0.444,
          0.4,
          0.2,
          0.6759999999999999,
          0.341,
          0.563,
          0.7040000000000001,
          0.474,
          0.096,
          0.281,
          0.43,
          0.444,
          0.474,
          0.4,
          0.2,
          0.119,
          0.393,
          0.37,
          0.448,
          0.43,
          0.119,
          0.393,
          0.37,
          0.29600000000000004,
          0.511,
          0.274,
          0.448,
          0.341,
          0.563,
          0.348,
          0.096,
          0.281,
          0.4,
          0.6759999999999999,
          0.638,
          0.643,
          0.393,
          0.37,
          0.448,
          0.119,
          0.37,
          0.29600000000000004,
          0.274,
          0.415,
          0.6759999999999999,
          0.659,
          0.667,
          0.652,
          0.348,
          0.096,
          0.281,
          0.4,
          0.2,
          0.667,
          0.119,
          0.29600000000000004,
          0.696,
          0.348,
          0.764,
          0.096,
          0.444,
          0.4,
          0.2,
          0.667,
          0.2,
          0.667,
          0.593,
          0.393,
          0.37,
          0.29600000000000004,
          0.511,
          0.415,
          0.448,
          0.474,
          0.474,
          0.63,
          0.644,
          0.526,
          0.463,
          0.481,
          0.504,
          0.748,
          0.585,
          0.574,
          0.733,
          0.637,
          0.459,
          0.511,
          0.563,
          0.696,
          0.448,
          0.659,
          0.5329999999999999,
          0.396,
          0.478,
          0.593,
          0.478,
          0.552,
          0.407,
          0.393,
          0.526,
          0.463,
          0.393,
          0.481,
          0.504,
          0.574,
          0.459,
          0.29600000000000004,
          0.511,
          0.448,
          0.659,
          0.43,
          0.5329999999999999,
          0.393,
          0.511,
          0.448,
          0.396,
          0.456,
          0.478,
          0.459,
          0.638,
          0.478,
          0.496,
          0.652,
          0.474,
          0.643,
          0.7040000000000001,
          0.396,
          0.452,
          0.456,
          0.478,
          0.593,
          0.478,
          0.444,
          0.493,
          0.552,
          0.496,
          0.474,
          0.396,
          0.456,
          0.478,
          0.478,
          0.444,
          0.493,
          0.496,
          0.474,
          0.396,
          0.456,
          0.478,
          0.459,
          0.593,
          0.478,
          0.444,
          0.493,
          0.552,
          0.448,
          0.396,
          0.452,
          0.456,
          0.478,
          0.459,
          0.593,
          0.478,
          0.444,
          0.493,
          0.552,
          0.496,
          0.474,
          0.448,
          0.396,
          0.452,
          0.456,
          0.478,
          0.478,
          0.444,
          0.493,
          0.552,
          0.496,
          0.456,
          0.493,
          0.7040000000000001,
          0.474,
          0.578,
          0.474,
          0.563,
          0.396,
          0.452,
          0.456,
          0.4,
          0.659,
          0.478,
          0.459,
          0.667,
          0.593,
          0.638,
          0.478,
          0.444,
          0.493,
          0.504,
          0.552,
          0.496,
          0.652,
          0.474,
          0.643,
          0.667,
          0.396,
          0.456,
          0.478,
          0.478,
          0.496,
          0.29600000000000004,
          0.7040000000000001,
          0.474,
          0.578,
          0.444,
          0.474,
          0.563,
          0.459,
          0.396,
          0.452,
          0.456,
          0.478,
          0.459,
          0.593,
          0.478,
          0.444,
          0.493,
          0.552,
          0.496,
          0.474,
          0.644,
          0.393,
          0.526,
          0.511,
          0.448,
          0.5329999999999999,
          0.396,
          0.452,
          0.456,
          0.478,
          0.459,
          0.638,
          0.478,
          0.444,
          0.493,
          0.504,
          0.552,
          0.496,
          0.474,
          0.643,
          0.396,
          0.456,
          0.478,
          0.474,
          0.7040000000000001,
          0.474,
          0.578,
          0.474,
          0.563,
          0.396,
          0.456,
          0.396,
          0.452,
          0.456,
          0.478,
          0.593,
          0.478,
          0.444,
          0.493,
          0.552,
          0.496,
          0.474,
          0.63,
          0.644,
          0.393,
          0.393,
          0.526,
          0.463,
          0.393,
          0.481,
          0.504,
          0.574,
          0.733,
          0.637,
          0.459,
          0.511,
          0.563,
          0.415,
          0.448,
          0.43,
          0.5329999999999999,
          0.396,
          0.452,
          0.456,
          0.478,
          0.478,
          0.493,
          0.496,
          0.474,
          0.456,
          0.478,
          0.7040000000000001,
          0.444,
          0.396,
          0.456,
          0.478,
          0.444,
          0.496,
          0.474,
          0.396,
          0.396,
          0.456,
          0.478,
          0.459,
          0.478,
          0.444,
          0.496,
          0.474,
          0.452,
          0.456,
          0.478,
          0.459,
          0.478,
          0.444,
          0.552,
          0.496,
          0.474
         ]
        }
       ],
       "layout": {
        "template": {
         "data": {
          "bar": [
           {
            "error_x": {
             "color": "#2a3f5f"
            },
            "error_y": {
             "color": "#2a3f5f"
            },
            "marker": {
             "line": {
              "color": "#E5ECF6",
              "width": 0.5
             }
            },
            "type": "bar"
           }
          ],
          "barpolar": [
           {
            "marker": {
             "line": {
              "color": "#E5ECF6",
              "width": 0.5
             }
            },
            "type": "barpolar"
           }
          ],
          "carpet": [
           {
            "aaxis": {
             "endlinecolor": "#2a3f5f",
             "gridcolor": "white",
             "linecolor": "white",
             "minorgridcolor": "white",
             "startlinecolor": "#2a3f5f"
            },
            "baxis": {
             "endlinecolor": "#2a3f5f",
             "gridcolor": "white",
             "linecolor": "white",
             "minorgridcolor": "white",
             "startlinecolor": "#2a3f5f"
            },
            "type": "carpet"
           }
          ],
          "choropleth": [
           {
            "colorbar": {
             "outlinewidth": 0,
             "ticks": ""
            },
            "type": "choropleth"
           }
          ],
          "contour": [
           {
            "colorbar": {
             "outlinewidth": 0,
             "ticks": ""
            },
            "colorscale": [
             [
              0,
              "#0d0887"
             ],
             [
              0.1111111111111111,
              "#46039f"
             ],
             [
              0.2222222222222222,
              "#7201a8"
             ],
             [
              0.3333333333333333,
              "#9c179e"
             ],
             [
              0.4444444444444444,
              "#bd3786"
             ],
             [
              0.5555555555555556,
              "#d8576b"
             ],
             [
              0.6666666666666666,
              "#ed7953"
             ],
             [
              0.7777777777777778,
              "#fb9f3a"
             ],
             [
              0.8888888888888888,
              "#fdca26"
             ],
             [
              1,
              "#f0f921"
             ]
            ],
            "type": "contour"
           }
          ],
          "contourcarpet": [
           {
            "colorbar": {
             "outlinewidth": 0,
             "ticks": ""
            },
            "type": "contourcarpet"
           }
          ],
          "heatmap": [
           {
            "colorbar": {
             "outlinewidth": 0,
             "ticks": ""
            },
            "colorscale": [
             [
              0,
              "#0d0887"
             ],
             [
              0.1111111111111111,
              "#46039f"
             ],
             [
              0.2222222222222222,
              "#7201a8"
             ],
             [
              0.3333333333333333,
              "#9c179e"
             ],
             [
              0.4444444444444444,
              "#bd3786"
             ],
             [
              0.5555555555555556,
              "#d8576b"
             ],
             [
              0.6666666666666666,
              "#ed7953"
             ],
             [
              0.7777777777777778,
              "#fb9f3a"
             ],
             [
              0.8888888888888888,
              "#fdca26"
             ],
             [
              1,
              "#f0f921"
             ]
            ],
            "type": "heatmap"
           }
          ],
          "heatmapgl": [
           {
            "colorbar": {
             "outlinewidth": 0,
             "ticks": ""
            },
            "colorscale": [
             [
              0,
              "#0d0887"
             ],
             [
              0.1111111111111111,
              "#46039f"
             ],
             [
              0.2222222222222222,
              "#7201a8"
             ],
             [
              0.3333333333333333,
              "#9c179e"
             ],
             [
              0.4444444444444444,
              "#bd3786"
             ],
             [
              0.5555555555555556,
              "#d8576b"
             ],
             [
              0.6666666666666666,
              "#ed7953"
             ],
             [
              0.7777777777777778,
              "#fb9f3a"
             ],
             [
              0.8888888888888888,
              "#fdca26"
             ],
             [
              1,
              "#f0f921"
             ]
            ],
            "type": "heatmapgl"
           }
          ],
          "histogram": [
           {
            "marker": {
             "colorbar": {
              "outlinewidth": 0,
              "ticks": ""
             }
            },
            "type": "histogram"
           }
          ],
          "histogram2d": [
           {
            "colorbar": {
             "outlinewidth": 0,
             "ticks": ""
            },
            "colorscale": [
             [
              0,
              "#0d0887"
             ],
             [
              0.1111111111111111,
              "#46039f"
             ],
             [
              0.2222222222222222,
              "#7201a8"
             ],
             [
              0.3333333333333333,
              "#9c179e"
             ],
             [
              0.4444444444444444,
              "#bd3786"
             ],
             [
              0.5555555555555556,
              "#d8576b"
             ],
             [
              0.6666666666666666,
              "#ed7953"
             ],
             [
              0.7777777777777778,
              "#fb9f3a"
             ],
             [
              0.8888888888888888,
              "#fdca26"
             ],
             [
              1,
              "#f0f921"
             ]
            ],
            "type": "histogram2d"
           }
          ],
          "histogram2dcontour": [
           {
            "colorbar": {
             "outlinewidth": 0,
             "ticks": ""
            },
            "colorscale": [
             [
              0,
              "#0d0887"
             ],
             [
              0.1111111111111111,
              "#46039f"
             ],
             [
              0.2222222222222222,
              "#7201a8"
             ],
             [
              0.3333333333333333,
              "#9c179e"
             ],
             [
              0.4444444444444444,
              "#bd3786"
             ],
             [
              0.5555555555555556,
              "#d8576b"
             ],
             [
              0.6666666666666666,
              "#ed7953"
             ],
             [
              0.7777777777777778,
              "#fb9f3a"
             ],
             [
              0.8888888888888888,
              "#fdca26"
             ],
             [
              1,
              "#f0f921"
             ]
            ],
            "type": "histogram2dcontour"
           }
          ],
          "mesh3d": [
           {
            "colorbar": {
             "outlinewidth": 0,
             "ticks": ""
            },
            "type": "mesh3d"
           }
          ],
          "parcoords": [
           {
            "line": {
             "colorbar": {
              "outlinewidth": 0,
              "ticks": ""
             }
            },
            "type": "parcoords"
           }
          ],
          "pie": [
           {
            "automargin": true,
            "type": "pie"
           }
          ],
          "scatter": [
           {
            "marker": {
             "colorbar": {
              "outlinewidth": 0,
              "ticks": ""
             }
            },
            "type": "scatter"
           }
          ],
          "scatter3d": [
           {
            "line": {
             "colorbar": {
              "outlinewidth": 0,
              "ticks": ""
             }
            },
            "marker": {
             "colorbar": {
              "outlinewidth": 0,
              "ticks": ""
             }
            },
            "type": "scatter3d"
           }
          ],
          "scattercarpet": [
           {
            "marker": {
             "colorbar": {
              "outlinewidth": 0,
              "ticks": ""
             }
            },
            "type": "scattercarpet"
           }
          ],
          "scattergeo": [
           {
            "marker": {
             "colorbar": {
              "outlinewidth": 0,
              "ticks": ""
             }
            },
            "type": "scattergeo"
           }
          ],
          "scattergl": [
           {
            "marker": {
             "colorbar": {
              "outlinewidth": 0,
              "ticks": ""
             }
            },
            "type": "scattergl"
           }
          ],
          "scattermapbox": [
           {
            "marker": {
             "colorbar": {
              "outlinewidth": 0,
              "ticks": ""
             }
            },
            "type": "scattermapbox"
           }
          ],
          "scatterpolar": [
           {
            "marker": {
             "colorbar": {
              "outlinewidth": 0,
              "ticks": ""
             }
            },
            "type": "scatterpolar"
           }
          ],
          "scatterpolargl": [
           {
            "marker": {
             "colorbar": {
              "outlinewidth": 0,
              "ticks": ""
             }
            },
            "type": "scatterpolargl"
           }
          ],
          "scatterternary": [
           {
            "marker": {
             "colorbar": {
              "outlinewidth": 0,
              "ticks": ""
             }
            },
            "type": "scatterternary"
           }
          ],
          "surface": [
           {
            "colorbar": {
             "outlinewidth": 0,
             "ticks": ""
            },
            "colorscale": [
             [
              0,
              "#0d0887"
             ],
             [
              0.1111111111111111,
              "#46039f"
             ],
             [
              0.2222222222222222,
              "#7201a8"
             ],
             [
              0.3333333333333333,
              "#9c179e"
             ],
             [
              0.4444444444444444,
              "#bd3786"
             ],
             [
              0.5555555555555556,
              "#d8576b"
             ],
             [
              0.6666666666666666,
              "#ed7953"
             ],
             [
              0.7777777777777778,
              "#fb9f3a"
             ],
             [
              0.8888888888888888,
              "#fdca26"
             ],
             [
              1,
              "#f0f921"
             ]
            ],
            "type": "surface"
           }
          ],
          "table": [
           {
            "cells": {
             "fill": {
              "color": "#EBF0F8"
             },
             "line": {
              "color": "white"
             }
            },
            "header": {
             "fill": {
              "color": "#C8D4E3"
             },
             "line": {
              "color": "white"
             }
            },
            "type": "table"
           }
          ]
         },
         "layout": {
          "annotationdefaults": {
           "arrowcolor": "#2a3f5f",
           "arrowhead": 0,
           "arrowwidth": 1
          },
          "coloraxis": {
           "colorbar": {
            "outlinewidth": 0,
            "ticks": ""
           }
          },
          "colorscale": {
           "diverging": [
            [
             0,
             "#8e0152"
            ],
            [
             0.1,
             "#c51b7d"
            ],
            [
             0.2,
             "#de77ae"
            ],
            [
             0.3,
             "#f1b6da"
            ],
            [
             0.4,
             "#fde0ef"
            ],
            [
             0.5,
             "#f7f7f7"
            ],
            [
             0.6,
             "#e6f5d0"
            ],
            [
             0.7,
             "#b8e186"
            ],
            [
             0.8,
             "#7fbc41"
            ],
            [
             0.9,
             "#4d9221"
            ],
            [
             1,
             "#276419"
            ]
           ],
           "sequential": [
            [
             0,
             "#0d0887"
            ],
            [
             0.1111111111111111,
             "#46039f"
            ],
            [
             0.2222222222222222,
             "#7201a8"
            ],
            [
             0.3333333333333333,
             "#9c179e"
            ],
            [
             0.4444444444444444,
             "#bd3786"
            ],
            [
             0.5555555555555556,
             "#d8576b"
            ],
            [
             0.6666666666666666,
             "#ed7953"
            ],
            [
             0.7777777777777778,
             "#fb9f3a"
            ],
            [
             0.8888888888888888,
             "#fdca26"
            ],
            [
             1,
             "#f0f921"
            ]
           ],
           "sequentialminus": [
            [
             0,
             "#0d0887"
            ],
            [
             0.1111111111111111,
             "#46039f"
            ],
            [
             0.2222222222222222,
             "#7201a8"
            ],
            [
             0.3333333333333333,
             "#9c179e"
            ],
            [
             0.4444444444444444,
             "#bd3786"
            ],
            [
             0.5555555555555556,
             "#d8576b"
            ],
            [
             0.6666666666666666,
             "#ed7953"
            ],
            [
             0.7777777777777778,
             "#fb9f3a"
            ],
            [
             0.8888888888888888,
             "#fdca26"
            ],
            [
             1,
             "#f0f921"
            ]
           ]
          },
          "colorway": [
           "#636efa",
           "#EF553B",
           "#00cc96",
           "#ab63fa",
           "#FFA15A",
           "#19d3f3",
           "#FF6692",
           "#B6E880",
           "#FF97FF",
           "#FECB52"
          ],
          "font": {
           "color": "#2a3f5f"
          },
          "geo": {
           "bgcolor": "white",
           "lakecolor": "white",
           "landcolor": "#E5ECF6",
           "showlakes": true,
           "showland": true,
           "subunitcolor": "white"
          },
          "hoverlabel": {
           "align": "left"
          },
          "hovermode": "closest",
          "mapbox": {
           "style": "light"
          },
          "paper_bgcolor": "white",
          "plot_bgcolor": "#E5ECF6",
          "polar": {
           "angularaxis": {
            "gridcolor": "white",
            "linecolor": "white",
            "ticks": ""
           },
           "bgcolor": "#E5ECF6",
           "radialaxis": {
            "gridcolor": "white",
            "linecolor": "white",
            "ticks": ""
           }
          },
          "scene": {
           "xaxis": {
            "backgroundcolor": "#E5ECF6",
            "gridcolor": "white",
            "gridwidth": 2,
            "linecolor": "white",
            "showbackground": true,
            "ticks": "",
            "zerolinecolor": "white"
           },
           "yaxis": {
            "backgroundcolor": "#E5ECF6",
            "gridcolor": "white",
            "gridwidth": 2,
            "linecolor": "white",
            "showbackground": true,
            "ticks": "",
            "zerolinecolor": "white"
           },
           "zaxis": {
            "backgroundcolor": "#E5ECF6",
            "gridcolor": "white",
            "gridwidth": 2,
            "linecolor": "white",
            "showbackground": true,
            "ticks": "",
            "zerolinecolor": "white"
           }
          },
          "shapedefaults": {
           "line": {
            "color": "#2a3f5f"
           }
          },
          "ternary": {
           "aaxis": {
            "gridcolor": "white",
            "linecolor": "white",
            "ticks": ""
           },
           "baxis": {
            "gridcolor": "white",
            "linecolor": "white",
            "ticks": ""
           },
           "bgcolor": "#E5ECF6",
           "caxis": {
            "gridcolor": "white",
            "linecolor": "white",
            "ticks": ""
           }
          },
          "title": {
           "x": 0.05
          },
          "xaxis": {
           "automargin": true,
           "gridcolor": "white",
           "linecolor": "white",
           "ticks": "",
           "title": {
            "standoff": 15
           },
           "zerolinecolor": "white",
           "zerolinewidth": 2
          },
          "yaxis": {
           "automargin": true,
           "gridcolor": "white",
           "linecolor": "white",
           "ticks": "",
           "title": {
            "standoff": 15
           },
           "zerolinecolor": "white",
           "zerolinewidth": 2
          }
         }
        },
        "title": {
         "text": "Features used in model"
        },
        "xaxis": {
         "title": {
          "text": "rB/rO"
         }
        },
        "yaxis": {
         "title": {
          "text": "Tolerance factor"
         }
        }
       }
      },
      "text/html": [
       "<div>                            <div id=\"9433de91-ee27-4cbd-be1c-28d81fd2c14e\" class=\"plotly-graph-div\" style=\"height:525px; width:100%;\"></div>            <script type=\"text/javascript\">                require([\"plotly\"], function(Plotly) {                    window.PLOTLYENV=window.PLOTLYENV || {};                                    if (document.getElementById(\"9433de91-ee27-4cbd-be1c-28d81fd2c14e\")) {                    Plotly.newPlot(                        \"9433de91-ee27-4cbd-be1c-28d81fd2c14e\",                        [{\"line\": {\"width\": 1}, \"marker\": {\"color\": [-1, -1, -1, -1, -1, -1, -1, -1, -1, -1, -1, -1, -1, -1, -1, -1, -1, -1, -1, -1, -1, -1, -1, -1, -1, -1, -1, -1, -1, -1, -1, -1, -1, -1, -1, -1, -1, -1, -1, -1, -1, -1, -1, -1, -1, -1, -1, -1, -1, -1, -1, -1, -1, -1, -1, -1, -1, -1, -1, -1, -1, -1, -1, -1, -1, -1, -1, -1, -1, -1, -1, -1, -1, -1, -1, -1, -1, -1, -1, -1, -1, -1, -1, -1, -1, -1, -1, -1, -1, -1, -1, -1, -1, -1, -1, -1, -1, -1, -1, -1, -1, -1, -1, -1, -1, -1, -1, -1, -1, -1, -1, -1, -1, -1, -1, -1, -1, -1, -1, -1, -1, -1, -1, -1, -1, -1, -1, -1, -1, -1, -1, -1, -1, -1, -1, -1, 1, 1, 1, 1, 1, 1, 1, 1, 1, 1, 1, 1, 1, 1, 1, 1, 1, 1, 1, 1, 1, 1, 1, 1, 1, 1, 1, 1, 1, 1, 1, 1, 1, 1, 1, 1, 1, 1, 1, 1, 1, 1, 1, 1, 1, 1, 1, 1, 1, 1, 1, 1, 1, 1, 1, 1, 1, 1, 1, 1, 1, 1, 1, 1, 1, 1, 1, 1, 1, 1, 1, 1, 1, 1, 1, 1, 1, 1, 1, 1, 1, 1, 1, 1, 1, 1, 1, 1, 1, 1, 1, 1, 1, 1, 1, 1, 1, 1, 1, 1, 1, 1, 1, 1, 1, 1, 1, 1, 1, 1, 1, 1, 1, 1, 1, 1, 1, 1, 1, 1, 1, 1, 1, 1, 1, 1, 1, 1, 1, 1, 1, 1, 1, 1, 1, 1, 1, 1, 1, 1, 1, 1, 1, 1, 1, 1, 1, 1, 1, 1, 1, 1, 1, 1, 1, 1, 1, 1, 1, 1, 1, 1, 1, 1, 1, 1, 1, 1, 1, 1, 1, 1, 1, 1, 1, 1, 1, 1, 1, 1, 1, 1, 1, 1, 1, 1, 1, 1, 1, 1, 1, 1, 1, 1, 1, 1, 1, 1, 1, 1, 1, 1, 1, 1, 1, 1, 1, 1, 1, 1, 1, 1, 1, 1, 1, 1, 1, 1, 1, 1, 1, 1, 1, 1, 1, 1, 1, 1, 1, 1, 1, 1, 1, 1, 1, 1, 1, 1, 1, 1, 1, 1, 1, 1, 1, 1, 1, 1, 1, 1, 1, 1, 1, 1]}, \"mode\": \"markers\", \"text\": [\"AgBiO3\", \"AgBrO3\", \"AgNO3\", \"AgPO3\", \"AgSbO3\", \"AgVO3\", \"AlBO3\", \"AlFeO3\", \"BaCO3\", \"BaCoO3\", \"BaCrO3\", \"BaGeO3\", \"BaMnO3\", \"BaNiO3\", \"BaSiO3\", \"BaTeO3\", \"CaCO3\", \"CdCO3\", \"CdPbO3\", \"CdSeO3\", \"CdSO3\", \"CdTeO3\", \"CeDyO3\", \"CeErO3\", \"CeHoO3\", \"CoCO3\", \"CoGeO3\", \"CoMnO3\", \"CoSeO3\", \"CoSiO3\", \"CoTeO3\", \"CoTiO3\", \"CsBrO3\", \"CsNbO3\", \"CsVO3\", \"CuCO3\", \"CuGeO3\", \"CuNbO3\", \"CuSeO3\", \"CuSiO3\", \"CuTeO3\", \"CuVO3\", \"DyBO3\", \"ErBO3\", \"EuBO3\", \"FeBO3\", \"FeMnO3\", \"FeSiO3\", \"FeSO3\", \"FeTiO3\", \"GaFeO3\", \"GaInO3\", \"GdBO3\", \"HgSeO3\", \"HgTeO3\", \"HoBO3\", \"InBO3\", \"InFeO3\", \"InMnO3\", \"KBiO3\", \"KBrO3\", \"KNO3\", \"KPO3\", \"KSbO3\", \"KVO3\", \"LaBO3\", \"LaDyO3\", \"LiAsO3\", \"LiBiO3\", \"LiIO3\", \"LiNbO3\", \"LiNO3\", \"LiPO3\", \"LiReO3\", \"LiSbO3\", \"LiTaO3\", \"LiVO3\", \"LuBO3\", \"MgCO3\", \"MgGeO3\", \"MgSeO3\", \"MgTiO3\", \"MgVO3\", \"MnCO3\", \"MnGeO3\", \"MnSeO3\", \"MnSiO3\", \"MnSnO3\", \"MnSO3\", \"MnTiO3\", \"NaAsO3\", \"NaBiO3\", \"NaBrO3\", \"NaNO3\", \"NaPO3\", \"NaVO3\", \"NdDyO3\", \"NdLuO3\", \"NdYbO3\", \"NiMnO3\", \"NiSeO3\", \"NiTiO3\", \"PbCO3\", \"PbSeO3\", \"PbSiO3\", \"PbSO3\", \"PbTeO3\", \"PrDyO3\", \"PrErO3\", \"PrHoO3\", \"PrTmO3\", \"RbBrO3\", \"RbNO3\", \"RbPO3\", \"RbVO3\", \"SmBO3\", \"SmYO3\", \"SrCO3\", \"SrSiO3\", \"SrThO3\", \"TlBrO3\", \"TlLaO3\", \"TlNO3\", \"TlSbO3\", \"TlVO3\", \"TmBO3\", \"TmYO3\", \"YBO3\", \"YbYO3\", \"YInO3\", \"ZnGeO3\", \"ZnSeO3\", \"ZnSiO3\", \"ZnSnO3\", \"ZnTeO3\", \"ZnTiO3\", \"AgNbO3\", \"AgTaO3\", \"BaAmO3\", \"BaCeO3\", \"BaHfO3\", \"BaIrO3\", \"BaMoO3\", \"BaNbO3\", \"BaNpO3\", \"BaPaO3\", \"BaPbO3\", \"BaPrO3\", \"BaPuO3\", \"BaRuO3\", \"BaSnO3\", \"BaTbO3\", \"BaThO3\", \"BaTiO3\", \"BaUO3\", \"BaZrO3\", \"BiAlO3\", \"BiFeO3\", \"BiInO3\", \"BiMnO3\", \"BiScO3\", \"CaCrO3\", \"CaGeO3\", \"CaHfO3\", \"CaIrO3\", \"CaMnO3\", \"CaMoO3\", \"CaNbO3\", \"CaPbO3\", \"CaRuO3\", \"CaSiO3\", \"CaSnO3\", \"CaTiO3\", \"CaUO3\", \"CaVO3\", \"CaZrO3\", \"CdGeO3\", \"CdSnO3\", \"CdTiO3\", \"CeAlO3\", \"CeCrO3\", \"CeFeO3\", \"CeGaO3\", \"CeLuO3\", \"CeMnO3\", \"CeTiO3\", \"CeTmO3\", \"CeVO3\", \"CeYbO3\", \"CsIO3\", \"DyAlO3\", \"DyCoO3\", \"DyCrO3\", \"DyFeO3\", \"DyInO3\", \"DyMnO3\", \"DyNiO3\", \"DyRhO3\", \"DyScO3\", \"DyTiO3\", \"DyVO3\", \"ErAlO3\", \"ErCrO3\", \"ErFeO3\", \"ErMnO3\", \"ErNiO3\", \"ErRhO3\", \"ErTiO3\", \"ErVO3\", \"EuAlO3\", \"EuCrO3\", \"EuFeO3\", \"EuGaO3\", \"EuInO3\", \"EuMnO3\", \"EuNiO3\", \"EuRhO3\", \"EuScO3\", \"EuTiO3\", \"GdAlO3\", \"GdCoO3\", \"GdCrO3\", \"GdFeO3\", \"GdGaO3\", \"GdInO3\", \"GdMnO3\", \"GdNiO3\", \"GdRhO3\", \"GdScO3\", \"GdTiO3\", \"GdVO3\", \"HgTiO3\", \"HoAlO3\", \"HoCoO3\", \"HoCrO3\", \"HoFeO3\", \"HoMnO3\", \"HoNiO3\", \"HoRhO3\", \"HoScO3\", \"HoTiO3\", \"InCrO3\", \"InRhO3\", \"KIO3\", \"KNbO3\", \"KPaO3\", \"KTaO3\", \"KUO3\", \"LaAlO3\", \"LaCoO3\", \"LaCrO3\", \"LaCuO3\", \"LaErO3\", \"LaFeO3\", \"LaGaO3\", \"LaHoO3\", \"LaInO3\", \"LaLuO3\", \"LaMnO3\", \"LaNiO3\", \"LaRhO3\", \"LaRuO3\", \"LaScO3\", \"LaTiO3\", \"LaTmO3\", \"LaVO3\", \"LaYbO3\", \"LaYO3\", \"LuAlO3\", \"LuCrO3\", \"LuFeO3\", \"LuMnO3\", \"LuTiO3\", \"MgSiO3\", \"NaIO3\", \"NaNbO3\", \"NaPaO3\", \"NaSbO3\", \"NaTaO3\", \"NaUO3\", \"NaWO3\", \"NdAlO3\", \"NdCoO3\", \"NdCrO3\", \"NdFeO3\", \"NdGaO3\", \"NdInO3\", \"NdMnO3\", \"NdNiO3\", \"NdRhO3\", \"NdScO3\", \"NdTiO3\", \"NdVO3\", \"PbCeO3\", \"PbGeO3\", \"PbHfO3\", \"PbSnO3\", \"PbTiO3\", \"PbZrO3\", \"PrAlO3\", \"PrCoO3\", \"PrCrO3\", \"PrFeO3\", \"PrGaO3\", \"PrLuO3\", \"PrMnO3\", \"PrNiO3\", \"PrRhO3\", \"PrRuO3\", \"PrScO3\", \"PrTiO3\", \"PrVO3\", \"PrYbO3\", \"PuAlO3\", \"PuCrO3\", \"PuMnO3\", \"PuVO3\", \"RbIO3\", \"RbNbO3\", \"RbPaO3\", \"RbTaO3\", \"RbUO3\", \"ScAlO3\", \"ScCrO3\", \"SmAlO3\", \"SmCoO3\", \"SmCrO3\", \"SmFeO3\", \"SmInO3\", \"SmMnO3\", \"SmNiO3\", \"SmRhO3\", \"SmScO3\", \"SmTiO3\", \"SmVO3\", \"SrAmO3\", \"SrCeO3\", \"SrCoO3\", \"SrGeO3\", \"SrHfO3\", \"SrIrO3\", \"SrMnO3\", \"SrMoO3\", \"SrNbO3\", \"SrPbO3\", \"SrPrO3\", \"SrPuO3\", \"SrRuO3\", \"SrSnO3\", \"SrTbO3\", \"SrTeO3\", \"SrTiO3\", \"SrVO3\", \"SrZrO3\", \"TbAlO3\", \"TbCoO3\", \"TbCrO3\", \"TbFeO3\", \"TbMnO3\", \"TbRhO3\", \"TbTiO3\", \"TbVO3\", \"TlCrO3\", \"TlFeO3\", \"TlIO3\", \"TlNiO3\", \"TmAlO3\", \"TmCrO3\", \"TmFeO3\", \"TmNiO3\", \"TmTiO3\", \"TmVO3\", \"YAlO3\", \"YbAlO3\", \"YbCrO3\", \"YbFeO3\", \"YbGaO3\", \"YbMnO3\", \"YbNiO3\", \"YbTiO3\", \"YbVO3\", \"YCoO3\", \"YCrO3\", \"YFeO3\", \"YGaO3\", \"YMnO3\", \"YNiO3\", \"YScO3\", \"YTiO3\", \"YVO3\"], \"type\": \"scattergl\", \"x\": [0.942, 1.092, 1.3430000000000002, 1.149, 1.019, 1.053, 0.933, 0.758, 1.386, 1.113, 1.102, 1.113, 1.113, 1.144, 1.196, 1.096, 1.26, 1.246, 0.885, 1.017, 1.094, 0.985, 0.841, 0.8490000000000001, 0.845, 1.137, 0.913, 0.913, 0.928, 0.981, 0.899, 0.878, 1.255, 1.148, 1.208, 1.1, 0.884, 0.818, 0.898, 0.949, 0.87, 0.861, 1.113, 1.104, 1.13, 1.001, 0.911, 0.979, 0.996, 0.8759999999999999, 0.789, 0.732, 1.124, 0.999, 0.968, 1.11, 1.068, 0.867, 0.867, 1.002, 1.162, 1.429, 1.222, 1.084, 1.119, 1.183, 0.847, 0.958, 0.8220000000000001, 0.754, 0.872, 1.172, 1.003, 0.899, 0.89, 0.872, 0.918, 1.091, 1.129, 0.906, 0.921, 0.872, 0.883, 1.163, 0.934, 0.949, 1.003, 0.861, 1.021, 0.898, 1.07, 0.918, 1.065, 1.3090000000000002, 1.12, 1.025, 0.8190000000000001, 0.838, 0.835, 0.858, 0.872, 0.825, 1.33, 1.086, 1.148, 1.168, 1.051, 0.833, 0.841, 0.8370000000000001, 0.845, 1.193, 1.467, 1.255, 1.149, 1.13, 0.8140000000000001, 1.307, 1.127, 0.861, 1.185, 0.732, 1.457, 1.106, 1.141, 1.1, 0.792, 1.111, 0.789, 0.8370000000000001, 0.906, 0.921, 0.974, 0.835, 0.892, 0.872, 0.998, 0.998, 0.951, 0.943, 1.016, 1.06, 1.047, 1.031, 0.887, 0.978, 0.985, 0.894, 0.947, 1.062, 1.026, 0.992, 0.914, 1.071, 0.934, 1.011, 1.013, 0.957, 0.888, 0.957, 0.911, 1.001, 1.012, 0.923, 0.963, 1.012, 0.951, 0.937, 0.895, 0.966, 1.087, 0.932, 0.973, 0.8490000000000001, 0.986, 0.919, 1.0, 0.922, 0.962, 1.009, 0.968, 0.953, 0.966, 0.86, 0.953, 0.942, 0.853, 0.956, 0.858, 0.993, 0.957, 0.92, 0.918, 0.904, 0.8390000000000001, 0.904, 0.925, 0.895, 0.861, 0.893, 0.906, 0.949, 0.91, 0.8959999999999999, 0.8959999999999999, 0.917, 0.887, 0.885, 0.899, 0.972, 0.932, 0.918, 0.93, 0.852, 0.918, 0.939, 0.909, 0.8740000000000001, 0.937, 0.966, 0.929, 0.926, 0.912, 0.924, 0.847, 0.912, 0.933, 0.903, 0.8690000000000001, 0.901, 0.915, 0.945, 0.954, 0.918, 0.915, 0.902, 0.902, 0.923, 0.893, 0.8590000000000001, 0.8909999999999999, 0.8809999999999999, 0.8590000000000001, 0.919, 1.062, 0.993, 1.062, 1.002, 1.017, 0.978, 0.975, 1.014, 0.855, 0.961, 0.973, 0.851, 0.8909999999999999, 0.867, 0.961, 0.983, 0.951, 0.944, 0.915, 0.949, 0.8590000000000001, 0.963, 0.8640000000000001, 0.852, 0.938, 0.9, 0.8859999999999999, 0.8859999999999999, 0.875, 0.974, 0.8420000000000001, 0.974, 0.91, 0.994, 0.974, 0.918, 0.983, 0.983, 0.945, 0.943, 0.929, 0.94, 0.862, 0.929, 0.95, 0.919, 0.884, 0.917, 0.931, 0.905, 1.068, 0.975, 0.984, 1.027, 0.97, 0.999, 0.961, 0.959, 0.944, 0.956, 0.852, 0.944, 0.966, 0.935, 0.928, 0.899, 0.933, 0.947, 0.8490000000000001, 0.915, 0.878, 0.865, 0.867, 0.944, 1.091, 1.019, 1.091, 1.029, 0.833, 0.799, 0.972, 0.934, 0.932, 0.918, 0.852, 0.918, 0.939, 0.909, 0.8740000000000001, 0.907, 0.92, 0.897, 0.889, 1.0490000000000002, 1.0490000000000002, 0.958, 0.999, 1.0490000000000002, 0.986, 0.972, 0.928, 0.843, 0.893, 1.001, 0.967, 0.935, 1.033, 1.009, 1.022, 0.953, 0.962, 0.925, 0.923, 0.909, 0.909, 0.9, 0.898, 0.911, 0.887, 0.8740000000000001, 0.938, 0.894, 0.945, 0.907, 0.893, 0.914, 0.882, 0.895, 0.955, 0.942, 0.904, 0.89, 0.902, 0.89, 0.911, 0.879, 0.893, 0.919, 0.916, 0.902, 0.914, 0.902, 0.923, 0.8590000000000001, 0.8909999999999999, 0.905], \"y\": [0.563, 0.348, 0.096, 0.281, 0.444, 0.4, 0.2, 0.478, 0.119, 0.393, 0.407, 0.393, 0.393, 0.35600000000000004, 0.29600000000000004, 0.415, 0.119, 0.119, 0.574, 0.37, 0.274, 0.415, 0.6759999999999999, 0.659, 0.667, 0.119, 0.393, 0.393, 0.37, 0.29600000000000004, 0.415, 0.448, 0.348, 0.474, 0.4, 0.119, 0.393, 0.504, 0.37, 0.29600000000000004, 0.415, 0.43, 0.2, 0.2, 0.2, 0.2, 0.393, 0.29600000000000004, 0.274, 0.448, 0.478, 0.593, 0.2, 0.37, 0.415, 0.2, 0.2, 0.478, 0.478, 0.563, 0.348, 0.096, 0.281, 0.444, 0.4, 0.2, 0.6759999999999999, 0.341, 0.563, 0.7040000000000001, 0.474, 0.096, 0.281, 0.43, 0.444, 0.474, 0.4, 0.2, 0.119, 0.393, 0.37, 0.448, 0.43, 0.119, 0.393, 0.37, 0.29600000000000004, 0.511, 0.274, 0.448, 0.341, 0.563, 0.348, 0.096, 0.281, 0.4, 0.6759999999999999, 0.638, 0.643, 0.393, 0.37, 0.448, 0.119, 0.37, 0.29600000000000004, 0.274, 0.415, 0.6759999999999999, 0.659, 0.667, 0.652, 0.348, 0.096, 0.281, 0.4, 0.2, 0.667, 0.119, 0.29600000000000004, 0.696, 0.348, 0.764, 0.096, 0.444, 0.4, 0.2, 0.667, 0.2, 0.667, 0.593, 0.393, 0.37, 0.29600000000000004, 0.511, 0.415, 0.448, 0.474, 0.474, 0.63, 0.644, 0.526, 0.463, 0.481, 0.504, 0.748, 0.585, 0.574, 0.733, 0.637, 0.459, 0.511, 0.563, 0.696, 0.448, 0.659, 0.5329999999999999, 0.396, 0.478, 0.593, 0.478, 0.552, 0.407, 0.393, 0.526, 0.463, 0.393, 0.481, 0.504, 0.574, 0.459, 0.29600000000000004, 0.511, 0.448, 0.659, 0.43, 0.5329999999999999, 0.393, 0.511, 0.448, 0.396, 0.456, 0.478, 0.459, 0.638, 0.478, 0.496, 0.652, 0.474, 0.643, 0.7040000000000001, 0.396, 0.452, 0.456, 0.478, 0.593, 0.478, 0.444, 0.493, 0.552, 0.496, 0.474, 0.396, 0.456, 0.478, 0.478, 0.444, 0.493, 0.496, 0.474, 0.396, 0.456, 0.478, 0.459, 0.593, 0.478, 0.444, 0.493, 0.552, 0.448, 0.396, 0.452, 0.456, 0.478, 0.459, 0.593, 0.478, 0.444, 0.493, 0.552, 0.496, 0.474, 0.448, 0.396, 0.452, 0.456, 0.478, 0.478, 0.444, 0.493, 0.552, 0.496, 0.456, 0.493, 0.7040000000000001, 0.474, 0.578, 0.474, 0.563, 0.396, 0.452, 0.456, 0.4, 0.659, 0.478, 0.459, 0.667, 0.593, 0.638, 0.478, 0.444, 0.493, 0.504, 0.552, 0.496, 0.652, 0.474, 0.643, 0.667, 0.396, 0.456, 0.478, 0.478, 0.496, 0.29600000000000004, 0.7040000000000001, 0.474, 0.578, 0.444, 0.474, 0.563, 0.459, 0.396, 0.452, 0.456, 0.478, 0.459, 0.593, 0.478, 0.444, 0.493, 0.552, 0.496, 0.474, 0.644, 0.393, 0.526, 0.511, 0.448, 0.5329999999999999, 0.396, 0.452, 0.456, 0.478, 0.459, 0.638, 0.478, 0.444, 0.493, 0.504, 0.552, 0.496, 0.474, 0.643, 0.396, 0.456, 0.478, 0.474, 0.7040000000000001, 0.474, 0.578, 0.474, 0.563, 0.396, 0.456, 0.396, 0.452, 0.456, 0.478, 0.593, 0.478, 0.444, 0.493, 0.552, 0.496, 0.474, 0.63, 0.644, 0.393, 0.393, 0.526, 0.463, 0.393, 0.481, 0.504, 0.574, 0.733, 0.637, 0.459, 0.511, 0.563, 0.415, 0.448, 0.43, 0.5329999999999999, 0.396, 0.452, 0.456, 0.478, 0.478, 0.493, 0.496, 0.474, 0.456, 0.478, 0.7040000000000001, 0.444, 0.396, 0.456, 0.478, 0.444, 0.496, 0.474, 0.396, 0.396, 0.456, 0.478, 0.459, 0.478, 0.444, 0.496, 0.474, 0.452, 0.456, 0.478, 0.459, 0.478, 0.444, 0.552, 0.496, 0.474]}],                        {\"template\": {\"data\": {\"bar\": [{\"error_x\": {\"color\": \"#2a3f5f\"}, \"error_y\": {\"color\": \"#2a3f5f\"}, \"marker\": {\"line\": {\"color\": \"#E5ECF6\", \"width\": 0.5}}, \"type\": \"bar\"}], \"barpolar\": [{\"marker\": {\"line\": {\"color\": \"#E5ECF6\", \"width\": 0.5}}, \"type\": \"barpolar\"}], \"carpet\": [{\"aaxis\": {\"endlinecolor\": \"#2a3f5f\", \"gridcolor\": \"white\", \"linecolor\": \"white\", \"minorgridcolor\": \"white\", \"startlinecolor\": \"#2a3f5f\"}, \"baxis\": {\"endlinecolor\": \"#2a3f5f\", \"gridcolor\": \"white\", \"linecolor\": \"white\", \"minorgridcolor\": \"white\", \"startlinecolor\": \"#2a3f5f\"}, \"type\": \"carpet\"}], \"choropleth\": [{\"colorbar\": {\"outlinewidth\": 0, \"ticks\": \"\"}, \"type\": \"choropleth\"}], \"contour\": [{\"colorbar\": {\"outlinewidth\": 0, \"ticks\": \"\"}, \"colorscale\": [[0.0, \"#0d0887\"], [0.1111111111111111, \"#46039f\"], [0.2222222222222222, \"#7201a8\"], [0.3333333333333333, \"#9c179e\"], [0.4444444444444444, \"#bd3786\"], [0.5555555555555556, \"#d8576b\"], [0.6666666666666666, \"#ed7953\"], [0.7777777777777778, \"#fb9f3a\"], [0.8888888888888888, \"#fdca26\"], [1.0, \"#f0f921\"]], \"type\": \"contour\"}], \"contourcarpet\": [{\"colorbar\": {\"outlinewidth\": 0, \"ticks\": \"\"}, \"type\": \"contourcarpet\"}], \"heatmap\": [{\"colorbar\": {\"outlinewidth\": 0, \"ticks\": \"\"}, \"colorscale\": [[0.0, \"#0d0887\"], [0.1111111111111111, \"#46039f\"], [0.2222222222222222, \"#7201a8\"], [0.3333333333333333, \"#9c179e\"], [0.4444444444444444, \"#bd3786\"], [0.5555555555555556, \"#d8576b\"], [0.6666666666666666, \"#ed7953\"], [0.7777777777777778, \"#fb9f3a\"], [0.8888888888888888, \"#fdca26\"], [1.0, \"#f0f921\"]], \"type\": \"heatmap\"}], \"heatmapgl\": [{\"colorbar\": {\"outlinewidth\": 0, \"ticks\": \"\"}, \"colorscale\": [[0.0, \"#0d0887\"], [0.1111111111111111, \"#46039f\"], [0.2222222222222222, \"#7201a8\"], [0.3333333333333333, \"#9c179e\"], [0.4444444444444444, \"#bd3786\"], [0.5555555555555556, \"#d8576b\"], [0.6666666666666666, \"#ed7953\"], [0.7777777777777778, \"#fb9f3a\"], [0.8888888888888888, \"#fdca26\"], [1.0, \"#f0f921\"]], \"type\": \"heatmapgl\"}], \"histogram\": [{\"marker\": {\"colorbar\": {\"outlinewidth\": 0, \"ticks\": \"\"}}, \"type\": \"histogram\"}], \"histogram2d\": [{\"colorbar\": {\"outlinewidth\": 0, \"ticks\": \"\"}, \"colorscale\": [[0.0, \"#0d0887\"], [0.1111111111111111, \"#46039f\"], [0.2222222222222222, \"#7201a8\"], [0.3333333333333333, \"#9c179e\"], [0.4444444444444444, \"#bd3786\"], [0.5555555555555556, \"#d8576b\"], [0.6666666666666666, \"#ed7953\"], [0.7777777777777778, \"#fb9f3a\"], [0.8888888888888888, \"#fdca26\"], [1.0, \"#f0f921\"]], \"type\": \"histogram2d\"}], \"histogram2dcontour\": [{\"colorbar\": {\"outlinewidth\": 0, \"ticks\": \"\"}, \"colorscale\": [[0.0, \"#0d0887\"], [0.1111111111111111, \"#46039f\"], [0.2222222222222222, \"#7201a8\"], [0.3333333333333333, \"#9c179e\"], [0.4444444444444444, \"#bd3786\"], [0.5555555555555556, \"#d8576b\"], [0.6666666666666666, \"#ed7953\"], [0.7777777777777778, \"#fb9f3a\"], [0.8888888888888888, \"#fdca26\"], [1.0, \"#f0f921\"]], \"type\": \"histogram2dcontour\"}], \"mesh3d\": [{\"colorbar\": {\"outlinewidth\": 0, \"ticks\": \"\"}, \"type\": \"mesh3d\"}], \"parcoords\": [{\"line\": {\"colorbar\": {\"outlinewidth\": 0, \"ticks\": \"\"}}, \"type\": \"parcoords\"}], \"pie\": [{\"automargin\": true, \"type\": \"pie\"}], \"scatter\": [{\"marker\": {\"colorbar\": {\"outlinewidth\": 0, \"ticks\": \"\"}}, \"type\": \"scatter\"}], \"scatter3d\": [{\"line\": {\"colorbar\": {\"outlinewidth\": 0, \"ticks\": \"\"}}, \"marker\": {\"colorbar\": {\"outlinewidth\": 0, \"ticks\": \"\"}}, \"type\": \"scatter3d\"}], \"scattercarpet\": [{\"marker\": {\"colorbar\": {\"outlinewidth\": 0, \"ticks\": \"\"}}, \"type\": \"scattercarpet\"}], \"scattergeo\": [{\"marker\": {\"colorbar\": {\"outlinewidth\": 0, \"ticks\": \"\"}}, \"type\": \"scattergeo\"}], \"scattergl\": [{\"marker\": {\"colorbar\": {\"outlinewidth\": 0, \"ticks\": \"\"}}, \"type\": \"scattergl\"}], \"scattermapbox\": [{\"marker\": {\"colorbar\": {\"outlinewidth\": 0, \"ticks\": \"\"}}, \"type\": \"scattermapbox\"}], \"scatterpolar\": [{\"marker\": {\"colorbar\": {\"outlinewidth\": 0, \"ticks\": \"\"}}, \"type\": \"scatterpolar\"}], \"scatterpolargl\": [{\"marker\": {\"colorbar\": {\"outlinewidth\": 0, \"ticks\": \"\"}}, \"type\": \"scatterpolargl\"}], \"scatterternary\": [{\"marker\": {\"colorbar\": {\"outlinewidth\": 0, \"ticks\": \"\"}}, \"type\": \"scatterternary\"}], \"surface\": [{\"colorbar\": {\"outlinewidth\": 0, \"ticks\": \"\"}, \"colorscale\": [[0.0, \"#0d0887\"], [0.1111111111111111, \"#46039f\"], [0.2222222222222222, \"#7201a8\"], [0.3333333333333333, \"#9c179e\"], [0.4444444444444444, \"#bd3786\"], [0.5555555555555556, \"#d8576b\"], [0.6666666666666666, \"#ed7953\"], [0.7777777777777778, \"#fb9f3a\"], [0.8888888888888888, \"#fdca26\"], [1.0, \"#f0f921\"]], \"type\": \"surface\"}], \"table\": [{\"cells\": {\"fill\": {\"color\": \"#EBF0F8\"}, \"line\": {\"color\": \"white\"}}, \"header\": {\"fill\": {\"color\": \"#C8D4E3\"}, \"line\": {\"color\": \"white\"}}, \"type\": \"table\"}]}, \"layout\": {\"annotationdefaults\": {\"arrowcolor\": \"#2a3f5f\", \"arrowhead\": 0, \"arrowwidth\": 1}, \"coloraxis\": {\"colorbar\": {\"outlinewidth\": 0, \"ticks\": \"\"}}, \"colorscale\": {\"diverging\": [[0, \"#8e0152\"], [0.1, \"#c51b7d\"], [0.2, \"#de77ae\"], [0.3, \"#f1b6da\"], [0.4, \"#fde0ef\"], [0.5, \"#f7f7f7\"], [0.6, \"#e6f5d0\"], [0.7, \"#b8e186\"], [0.8, \"#7fbc41\"], [0.9, \"#4d9221\"], [1, \"#276419\"]], \"sequential\": [[0.0, \"#0d0887\"], [0.1111111111111111, \"#46039f\"], [0.2222222222222222, \"#7201a8\"], [0.3333333333333333, \"#9c179e\"], [0.4444444444444444, \"#bd3786\"], [0.5555555555555556, \"#d8576b\"], [0.6666666666666666, \"#ed7953\"], [0.7777777777777778, \"#fb9f3a\"], [0.8888888888888888, \"#fdca26\"], [1.0, \"#f0f921\"]], \"sequentialminus\": [[0.0, \"#0d0887\"], [0.1111111111111111, \"#46039f\"], [0.2222222222222222, \"#7201a8\"], [0.3333333333333333, \"#9c179e\"], [0.4444444444444444, \"#bd3786\"], [0.5555555555555556, \"#d8576b\"], [0.6666666666666666, \"#ed7953\"], [0.7777777777777778, \"#fb9f3a\"], [0.8888888888888888, \"#fdca26\"], [1.0, \"#f0f921\"]]}, \"colorway\": [\"#636efa\", \"#EF553B\", \"#00cc96\", \"#ab63fa\", \"#FFA15A\", \"#19d3f3\", \"#FF6692\", \"#B6E880\", \"#FF97FF\", \"#FECB52\"], \"font\": {\"color\": \"#2a3f5f\"}, \"geo\": {\"bgcolor\": \"white\", \"lakecolor\": \"white\", \"landcolor\": \"#E5ECF6\", \"showlakes\": true, \"showland\": true, \"subunitcolor\": \"white\"}, \"hoverlabel\": {\"align\": \"left\"}, \"hovermode\": \"closest\", \"mapbox\": {\"style\": \"light\"}, \"paper_bgcolor\": \"white\", \"plot_bgcolor\": \"#E5ECF6\", \"polar\": {\"angularaxis\": {\"gridcolor\": \"white\", \"linecolor\": \"white\", \"ticks\": \"\"}, \"bgcolor\": \"#E5ECF6\", \"radialaxis\": {\"gridcolor\": \"white\", \"linecolor\": \"white\", \"ticks\": \"\"}}, \"scene\": {\"xaxis\": {\"backgroundcolor\": \"#E5ECF6\", \"gridcolor\": \"white\", \"gridwidth\": 2, \"linecolor\": \"white\", \"showbackground\": true, \"ticks\": \"\", \"zerolinecolor\": \"white\"}, \"yaxis\": {\"backgroundcolor\": \"#E5ECF6\", \"gridcolor\": \"white\", \"gridwidth\": 2, \"linecolor\": \"white\", \"showbackground\": true, \"ticks\": \"\", \"zerolinecolor\": \"white\"}, \"zaxis\": {\"backgroundcolor\": \"#E5ECF6\", \"gridcolor\": \"white\", \"gridwidth\": 2, \"linecolor\": \"white\", \"showbackground\": true, \"ticks\": \"\", \"zerolinecolor\": \"white\"}}, \"shapedefaults\": {\"line\": {\"color\": \"#2a3f5f\"}}, \"ternary\": {\"aaxis\": {\"gridcolor\": \"white\", \"linecolor\": \"white\", \"ticks\": \"\"}, \"baxis\": {\"gridcolor\": \"white\", \"linecolor\": \"white\", \"ticks\": \"\"}, \"bgcolor\": \"#E5ECF6\", \"caxis\": {\"gridcolor\": \"white\", \"linecolor\": \"white\", \"ticks\": \"\"}}, \"title\": {\"x\": 0.05}, \"xaxis\": {\"automargin\": true, \"gridcolor\": \"white\", \"linecolor\": \"white\", \"ticks\": \"\", \"title\": {\"standoff\": 15}, \"zerolinecolor\": \"white\", \"zerolinewidth\": 2}, \"yaxis\": {\"automargin\": true, \"gridcolor\": \"white\", \"linecolor\": \"white\", \"ticks\": \"\", \"title\": {\"standoff\": 15}, \"zerolinecolor\": \"white\", \"zerolinewidth\": 2}}}, \"title\": {\"text\": \"Features used in model\"}, \"xaxis\": {\"title\": {\"text\": \"rB/rO\"}}, \"yaxis\": {\"title\": {\"text\": \"Tolerance factor\"}}},                        {\"responsive\": true}                    ).then(function(){\n",
       "                            \n",
       "var gd = document.getElementById('9433de91-ee27-4cbd-be1c-28d81fd2c14e');\n",
       "var x = new MutationObserver(function (mutations, observer) {{\n",
       "        var display = window.getComputedStyle(gd).display;\n",
       "        if (!display || display === 'none') {{\n",
       "            console.log([gd, 'removed!']);\n",
       "            Plotly.purge(gd);\n",
       "            observer.disconnect();\n",
       "        }}\n",
       "}});\n",
       "\n",
       "// Listen for the removal of the full notebook cells\n",
       "var notebookContainer = gd.closest('#notebook-container');\n",
       "if (notebookContainer) {{\n",
       "    x.observe(notebookContainer, {childList: true});\n",
       "}}\n",
       "\n",
       "// Listen for the clearing of the current output cell\n",
       "var outputEl = gd.closest('.output');\n",
       "if (outputEl) {{\n",
       "    x.observe(outputEl, {childList: true});\n",
       "}}\n",
       "\n",
       "                        })                };                });            </script>        </div>"
      ]
     },
     "metadata": {},
     "output_type": "display_data"
    }
   ],
   "source": [
    "fig = go.Figure(data=go.Scattergl(x=data[\"t\"], \n",
    "                                y=data[\"rB/rO\"], \n",
    "                                mode='markers',\n",
    "                                marker_color=data['Perovskite'],\n",
    "                                text=data['Compound'],\n",
    "                               line_width=1),\n",
    "                layout = go.Layout (\n",
    "                    title=go.layout.Title(text='Features used in model'),\n",
    "                    yaxis=dict(title=\"Tolerance factor\"),\n",
    "                    xaxis=dict(title=\"rB/rO\")))\n",
    "fig.show()"
   ]
  },
  {
   "cell_type": "markdown",
   "metadata": {},
   "source": []
  },
  {
   "cell_type": "code",
   "execution_count": null,
   "metadata": {},
   "outputs": [],
   "source": []
  },
  {
   "cell_type": "markdown",
   "metadata": {},
   "source": [
    "# Using an unsupervised algorithm on unlabeled data"
   ]
  },
  {
   "cell_type": "code",
   "execution_count": 42,
   "metadata": {},
   "outputs": [
    {
     "data": {
      "text/html": [
       "<div>\n",
       "<style scoped>\n",
       "    .dataframe tbody tr th:only-of-type {\n",
       "        vertical-align: middle;\n",
       "    }\n",
       "\n",
       "    .dataframe tbody tr th {\n",
       "        vertical-align: top;\n",
       "    }\n",
       "\n",
       "    .dataframe thead th {\n",
       "        text-align: right;\n",
       "    }\n",
       "</style>\n",
       "<table border=\"1\" class=\"dataframe\">\n",
       "  <thead>\n",
       "    <tr style=\"text-align: right;\">\n",
       "      <th></th>\n",
       "      <th>Compound</th>\n",
       "      <th>Aatom</th>\n",
       "      <th>Batom</th>\n",
       "      <th>rA</th>\n",
       "      <th>rB</th>\n",
       "      <th>MA</th>\n",
       "      <th>MB</th>\n",
       "      <th>dAO</th>\n",
       "      <th>dBO</th>\n",
       "      <th>rA/rO</th>\n",
       "      <th>rB/rO</th>\n",
       "      <th>t</th>\n",
       "    </tr>\n",
       "  </thead>\n",
       "  <tbody>\n",
       "    <tr>\n",
       "      <th>0</th>\n",
       "      <td>AgIO3</td>\n",
       "      <td>Ag</td>\n",
       "      <td>I</td>\n",
       "      <td>1.460</td>\n",
       "      <td>0.950</td>\n",
       "      <td>65</td>\n",
       "      <td>96</td>\n",
       "      <td>1.805</td>\n",
       "      <td>2.003</td>\n",
       "      <td>1.081</td>\n",
       "      <td>0.704</td>\n",
       "      <td>0.863858</td>\n",
       "    </tr>\n",
       "    <tr>\n",
       "      <th>1</th>\n",
       "      <td>AgPaO3</td>\n",
       "      <td>Ag</td>\n",
       "      <td>Pa</td>\n",
       "      <td>1.460</td>\n",
       "      <td>0.780</td>\n",
       "      <td>65</td>\n",
       "      <td>18</td>\n",
       "      <td>1.805</td>\n",
       "      <td>2.110</td>\n",
       "      <td>1.081</td>\n",
       "      <td>0.578</td>\n",
       "      <td>0.932785</td>\n",
       "    </tr>\n",
       "    <tr>\n",
       "      <th>2</th>\n",
       "      <td>AgReO3</td>\n",
       "      <td>Ag</td>\n",
       "      <td>Re</td>\n",
       "      <td>1.460</td>\n",
       "      <td>0.580</td>\n",
       "      <td>65</td>\n",
       "      <td>54</td>\n",
       "      <td>1.805</td>\n",
       "      <td>1.860</td>\n",
       "      <td>1.081</td>\n",
       "      <td>0.430</td>\n",
       "      <td>1.029416</td>\n",
       "    </tr>\n",
       "    <tr>\n",
       "      <th>3</th>\n",
       "      <td>AgUO3</td>\n",
       "      <td>Ag</td>\n",
       "      <td>U</td>\n",
       "      <td>1.460</td>\n",
       "      <td>0.760</td>\n",
       "      <td>65</td>\n",
       "      <td>20</td>\n",
       "      <td>1.805</td>\n",
       "      <td>2.075</td>\n",
       "      <td>1.081</td>\n",
       "      <td>0.563</td>\n",
       "      <td>0.941624</td>\n",
       "    </tr>\n",
       "    <tr>\n",
       "      <th>4</th>\n",
       "      <td>AgWO3</td>\n",
       "      <td>Ag</td>\n",
       "      <td>W</td>\n",
       "      <td>1.460</td>\n",
       "      <td>0.620</td>\n",
       "      <td>65</td>\n",
       "      <td>51</td>\n",
       "      <td>1.805</td>\n",
       "      <td>1.890</td>\n",
       "      <td>1.081</td>\n",
       "      <td>0.459</td>\n",
       "      <td>1.008520</td>\n",
       "    </tr>\n",
       "    <tr>\n",
       "      <th>...</th>\n",
       "      <td>...</td>\n",
       "      <td>...</td>\n",
       "      <td>...</td>\n",
       "      <td>...</td>\n",
       "      <td>...</td>\n",
       "      <td>...</td>\n",
       "      <td>...</td>\n",
       "      <td>...</td>\n",
       "      <td>...</td>\n",
       "      <td>...</td>\n",
       "      <td>...</td>\n",
       "      <td>...</td>\n",
       "    </tr>\n",
       "    <tr>\n",
       "      <th>620</th>\n",
       "      <td>ScYbO3</td>\n",
       "      <td>Sc</td>\n",
       "      <td>Yb</td>\n",
       "      <td>0.870</td>\n",
       "      <td>0.868</td>\n",
       "      <td>11</td>\n",
       "      <td>39</td>\n",
       "      <td>1.849</td>\n",
       "      <td>1.954</td>\n",
       "      <td>0.644</td>\n",
       "      <td>0.643</td>\n",
       "      <td>0.707744</td>\n",
       "    </tr>\n",
       "    <tr>\n",
       "      <th>621</th>\n",
       "      <td>ScYO3</td>\n",
       "      <td>Sc</td>\n",
       "      <td>Y</td>\n",
       "      <td>0.870</td>\n",
       "      <td>0.900</td>\n",
       "      <td>11</td>\n",
       "      <td>12</td>\n",
       "      <td>1.849</td>\n",
       "      <td>2.014</td>\n",
       "      <td>0.644</td>\n",
       "      <td>0.667</td>\n",
       "      <td>0.697681</td>\n",
       "    </tr>\n",
       "    <tr>\n",
       "      <th>622</th>\n",
       "      <td>ErLaO3</td>\n",
       "      <td>Er</td>\n",
       "      <td>La</td>\n",
       "      <td>1.179</td>\n",
       "      <td>1.032</td>\n",
       "      <td>35</td>\n",
       "      <td>13</td>\n",
       "      <td>1.979</td>\n",
       "      <td>2.148</td>\n",
       "      <td>0.873</td>\n",
       "      <td>0.764</td>\n",
       "      <td>0.750733</td>\n",
       "    </tr>\n",
       "    <tr>\n",
       "      <th>623</th>\n",
       "      <td>HoLaO3</td>\n",
       "      <td>Ho</td>\n",
       "      <td>La</td>\n",
       "      <td>1.194</td>\n",
       "      <td>1.032</td>\n",
       "      <td>33</td>\n",
       "      <td>13</td>\n",
       "      <td>1.992</td>\n",
       "      <td>2.148</td>\n",
       "      <td>0.884</td>\n",
       "      <td>0.764</td>\n",
       "      <td>0.755185</td>\n",
       "    </tr>\n",
       "    <tr>\n",
       "      <th>624</th>\n",
       "      <td>TmLaO3</td>\n",
       "      <td>Tm</td>\n",
       "      <td>La</td>\n",
       "      <td>1.170</td>\n",
       "      <td>1.032</td>\n",
       "      <td>37</td>\n",
       "      <td>13</td>\n",
       "      <td>1.968</td>\n",
       "      <td>2.148</td>\n",
       "      <td>0.867</td>\n",
       "      <td>0.764</td>\n",
       "      <td>0.748062</td>\n",
       "    </tr>\n",
       "  </tbody>\n",
       "</table>\n",
       "<p>625 rows × 12 columns</p>\n",
       "</div>"
      ],
      "text/plain": [
       "    Compound Aatom Batom     rA     rB  MA  MB    dAO    dBO  rA/rO  rB/rO  \\\n",
       "0      AgIO3    Ag     I  1.460  0.950  65  96  1.805  2.003  1.081  0.704   \n",
       "1     AgPaO3    Ag    Pa  1.460  0.780  65  18  1.805  2.110  1.081  0.578   \n",
       "2     AgReO3    Ag    Re  1.460  0.580  65  54  1.805  1.860  1.081  0.430   \n",
       "3      AgUO3    Ag     U  1.460  0.760  65  20  1.805  2.075  1.081  0.563   \n",
       "4      AgWO3    Ag     W  1.460  0.620  65  51  1.805  1.890  1.081  0.459   \n",
       "..       ...   ...   ...    ...    ...  ..  ..    ...    ...    ...    ...   \n",
       "620   ScYbO3    Sc    Yb  0.870  0.868  11  39  1.849  1.954  0.644  0.643   \n",
       "621    ScYO3    Sc     Y  0.870  0.900  11  12  1.849  2.014  0.644  0.667   \n",
       "622   ErLaO3    Er    La  1.179  1.032  35  13  1.979  2.148  0.873  0.764   \n",
       "623   HoLaO3    Ho    La  1.194  1.032  33  13  1.992  2.148  0.884  0.764   \n",
       "624   TmLaO3    Tm    La  1.170  1.032  37  13  1.968  2.148  0.867  0.764   \n",
       "\n",
       "            t  \n",
       "0    0.863858  \n",
       "1    0.932785  \n",
       "2    1.029416  \n",
       "3    0.941624  \n",
       "4    1.008520  \n",
       "..        ...  \n",
       "620  0.707744  \n",
       "621  0.697681  \n",
       "622  0.750733  \n",
       "623  0.755185  \n",
       "624  0.748062  \n",
       "\n",
       "[625 rows x 12 columns]"
      ]
     },
     "execution_count": 42,
     "metadata": {},
     "output_type": "execute_result"
    }
   ],
   "source": [
    "allFeatures = [\"rA\", \"rB\", \"MA\", \"MB\", \"dAO\", \"dBO\", \"rA/rO\", \"rB/rO\", \"t\"]\n",
    "\n",
    "testData = pd.read_csv('../../data/625TestData.csv')\n",
    "testData"
   ]
  },
  {
   "cell_type": "code",
   "execution_count": 43,
   "metadata": {},
   "outputs": [],
   "source": [
    "def runUnsupervisedModel(X, n_clusters = 4, preprocessing = False):\n",
    "  \n",
    "    #kmeans = KMeans(n_clusters=n_clusters, random_state=0).fit(X)\n",
    "    kmeans = [KMeans(n_clusters=i, max_iter = 200) for i in n_clusters]\n",
    "    score = [kmeans[i].fit(X).inertia_ for i in range(len(kmeans))]\n",
    "\n",
    "    return score"
   ]
  },
  {
   "cell_type": "code",
   "execution_count": 44,
   "metadata": {
    "scrolled": true
   },
   "outputs": [],
   "source": [
    "number_clusters = range(1, 10)\n",
    "score = runUnsupervisedModel(testData[chosenFeatures], n_clusters = number_clusters)"
   ]
  },
  {
   "cell_type": "code",
   "execution_count": 45,
   "metadata": {},
   "outputs": [
    {
     "data": {
      "image/png": "[encoded data removed]",
      "text/plain": [
       "<Figure size 432x288 with 1 Axes>"
      ]
     },
     "metadata": {
      "needs_background": "light"
     },
     "output_type": "display_data"
    }
   ],
   "source": [
    "plt.plot(number_clusters, score)\n",
    "plt.xlabel('Number of Clusters')\n",
    "plt.ylabel('Score')\n",
    "plt.title('Elbow Method')\n",
    "plt.show()"
   ]
  },
  {
   "cell_type": "markdown",
   "metadata": {},
   "source": [
    "From the \"elbow plot\" we see a distinguishable elbow at both 2 and 4 clusters, with the latter being more distinct. Thus, we continue with 4 clusters. "
   ]
  },
  {
   "cell_type": "code",
   "execution_count": 51,
   "metadata": {},
   "outputs": [],
   "source": [
    "kmeans = KMeans(n_clusters=4, random_state=random_state).fit(testData[allFeatures])"
   ]
  },
  {
   "cell_type": "code",
   "execution_count": 52,
   "metadata": {},
   "outputs": [
    {
     "data": {
      "text/html": [
       "<div>\n",
       "<style scoped>\n",
       "    .dataframe tbody tr th:only-of-type {\n",
       "        vertical-align: middle;\n",
       "    }\n",
       "\n",
       "    .dataframe tbody tr th {\n",
       "        vertical-align: top;\n",
       "    }\n",
       "\n",
       "    .dataframe thead th {\n",
       "        text-align: right;\n",
       "    }\n",
       "</style>\n",
       "<table border=\"1\" class=\"dataframe\">\n",
       "  <thead>\n",
       "    <tr style=\"text-align: right;\">\n",
       "      <th></th>\n",
       "      <th>Compound</th>\n",
       "      <th>KM labels</th>\n",
       "    </tr>\n",
       "  </thead>\n",
       "  <tbody>\n",
       "    <tr>\n",
       "      <th>0</th>\n",
       "      <td>AgIO3</td>\n",
       "      <td>2</td>\n",
       "    </tr>\n",
       "    <tr>\n",
       "      <th>1</th>\n",
       "      <td>AgPaO3</td>\n",
       "      <td>1</td>\n",
       "    </tr>\n",
       "    <tr>\n",
       "      <th>2</th>\n",
       "      <td>AgReO3</td>\n",
       "      <td>2</td>\n",
       "    </tr>\n",
       "    <tr>\n",
       "      <th>3</th>\n",
       "      <td>AgUO3</td>\n",
       "      <td>1</td>\n",
       "    </tr>\n",
       "    <tr>\n",
       "      <th>4</th>\n",
       "      <td>AgWO3</td>\n",
       "      <td>2</td>\n",
       "    </tr>\n",
       "    <tr>\n",
       "      <th>...</th>\n",
       "      <td>...</td>\n",
       "      <td>...</td>\n",
       "    </tr>\n",
       "    <tr>\n",
       "      <th>620</th>\n",
       "      <td>ScYbO3</td>\n",
       "      <td>3</td>\n",
       "    </tr>\n",
       "    <tr>\n",
       "      <th>621</th>\n",
       "      <td>ScYO3</td>\n",
       "      <td>3</td>\n",
       "    </tr>\n",
       "    <tr>\n",
       "      <th>622</th>\n",
       "      <td>ErLaO3</td>\n",
       "      <td>3</td>\n",
       "    </tr>\n",
       "    <tr>\n",
       "      <th>623</th>\n",
       "      <td>HoLaO3</td>\n",
       "      <td>3</td>\n",
       "    </tr>\n",
       "    <tr>\n",
       "      <th>624</th>\n",
       "      <td>TmLaO3</td>\n",
       "      <td>3</td>\n",
       "    </tr>\n",
       "  </tbody>\n",
       "</table>\n",
       "<p>625 rows × 2 columns</p>\n",
       "</div>"
      ],
      "text/plain": [
       "    Compound  KM labels\n",
       "0      AgIO3          2\n",
       "1     AgPaO3          1\n",
       "2     AgReO3          2\n",
       "3      AgUO3          1\n",
       "4      AgWO3          2\n",
       "..       ...        ...\n",
       "620   ScYbO3          3\n",
       "621    ScYO3          3\n",
       "622   ErLaO3          3\n",
       "623   HoLaO3          3\n",
       "624   TmLaO3          3\n",
       "\n",
       "[625 rows x 2 columns]"
      ]
     },
     "execution_count": 52,
     "metadata": {},
     "output_type": "execute_result"
    }
   ],
   "source": [
    "Summary = pd.DataFrame({})\n",
    "Summary[\"Compound\"] = testData[\"Compound\"]\n",
    "Summary[\"KM labels\"] = kmeans.labels_\n",
    "Summary"
   ]
  },
  {
   "cell_type": "code",
   "execution_count": 69,
   "metadata": {},
   "outputs": [],
   "source": [
    "Summary.to_csv(\"summary/625UnsupervisedPredictions.csv\", sep=\",\", index = False)"
   ]
  },
  {
   "cell_type": "code",
   "execution_count": null,
   "metadata": {},
   "outputs": [],
   "source": []
  },
  {
   "cell_type": "code",
   "execution_count": null,
   "metadata": {},
   "outputs": [],
   "source": []
  }
 ],
 "metadata": {
  "kernelspec": {
   "display_name": "Python 3",
   "language": "python",
   "name": "python3"
  },
  "language_info": {
   "codemirror_mode": {
    "name": "ipython",
    "version": 3
   },
   "file_extension": ".py",
   "mimetype": "text/x-python",
   "name": "python",
   "nbconvert_exporter": "python",
   "pygments_lexer": "ipython3",
   "version": "3.8.5"
  }
 },
 "nbformat": 4,
 "nbformat_minor": 2
}
