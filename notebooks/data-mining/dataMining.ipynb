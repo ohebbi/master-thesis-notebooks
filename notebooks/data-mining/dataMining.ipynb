{
 "cells": [
  {
   "cell_type": "markdown",
   "metadata": {},
   "source": [
    "# Data mining\n",
    "\n",
    "This notebook will initially serve as an example in how to extract information of the database Materials Project. In total, there are 126335 entries in the materials project whereas 48644 of them, roughly 39%, are deemed to be structurally similar from an experimental ICSD entry according to pymatgen's StructureMatcher algorithm."
   ]
  },
  {
   "cell_type": "code",
   "execution_count": 29,
   "metadata": {},
   "outputs": [],
   "source": [
    "from pymatgen import MPRester, Composition\n",
    "from pandas import DataFrame\n",
    "\n",
    "compounds = []"
   ]
  },
  {
   "cell_type": "code",
   "execution_count": 42,
   "metadata": {},
   "outputs": [
    {
     "data": {
      "application/vnd.jupyter.widget-view+json": {
       "model_id": "c8ad298705264584bccbb9f197082d94",
       "version_major": 2,
       "version_minor": 0
      },
      "text/plain": [
       "HBox(children=(HTML(value=''), FloatProgress(value=0.0, max=48644.0), HTML(value='')))"
      ]
     },
     "metadata": {},
     "output_type": "display_data"
    },
    {
     "name": "stdout",
     "output_type": "stream",
     "text": [
      "\n",
      "\n"
     ]
    }
   ],
   "source": [
    "with MPRester(\"b7RtVfJTsUg6TK8E\") as mpr:\n",
    "    #data = mpr.query(criteria={\"formula_anonymous\": \"ABC3\"},\n",
    "    #                 properties=[\"task_id\", \"pretty_formula\", \"unit_cell_formula\", \"nsites\"])\n",
    "    \n",
    "    criteria = {#'elements':{\"$all\": [\"O\"]}, #All compounds contain O\n",
    "                #'nelements':3,\n",
    "                #'icsd_ids': {'$gt': 0}, #All compounds is deemed similar to a structure in ICSD\n",
    "                #'e_above_hull': {'$lte': 0.01}, # stable compositions = 0. We are asking for lower than or equal to 0.01.\n",
    "                #'anonymous_formula': {\"A\": 1, \"B\": 1, \"C\": 3},\n",
    "                #\"band_gap\": {\"$gt\": 0} #greater than\n",
    "                }\n",
    "\n",
    "    props = [\"material_id\",\"icsd_ids\"]#,'pretty_formula','e_above_hull',\"band_gap\"]\n",
    "    entries = mpr.query(criteria=criteria, properties=props)\n"
   ]
  },
  {
   "cell_type": "code",
   "execution_count": 44,
   "metadata": {},
   "outputs": [
    {
     "name": "stdout",
     "output_type": "stream",
     "text": [
      "48644\n",
      "{'material_id': 'mp-540537', 'icsd_ids': [1]}\n"
     ]
    }
   ],
   "source": [
    "print(len(entries))\n",
    "print(entries[0])"
   ]
  },
  {
   "cell_type": "code",
   "execution_count": null,
   "metadata": {},
   "outputs": [],
   "source": []
  }
 ],
 "metadata": {
  "kernelspec": {
   "display_name": "Python 3",
   "language": "python",
   "name": "python3"
  },
  "language_info": {
   "codemirror_mode": {
    "name": "ipython",
    "version": 3
   },
   "file_extension": ".py",
   "mimetype": "text/x-python",
   "name": "python",
   "nbconvert_exporter": "python",
   "pygments_lexer": "ipython3",
   "version": "3.8.5"
  }
 },
 "nbformat": 4,
 "nbformat_minor": 4
}
