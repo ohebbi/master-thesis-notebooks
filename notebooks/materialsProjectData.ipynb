{
 "cells": [
  {
   "cell_type": "markdown",
   "metadata": {},
   "source": [
    "# Storing results from API pymatgen"
   ]
  },
  {
   "cell_type": "code",
   "execution_count": 1,
   "metadata": {},
   "outputs": [],
   "source": [
    "from pymatgen import MPRester, Composition\n",
    "from pandas import DataFrame\n",
    "import re\n",
    "import pprint\n",
    "import numpy as np"
   ]
  },
  {
   "cell_type": "markdown",
   "metadata": {},
   "source": [
    "The Materials Project offers a variety of properties of hundreds of thousands of inorganic crystalline materials. Almost all Materials Project data is calculated using a theoretical technique called Density Functional Theory.\n",
    "A few notes about DFT: \n",
    " - DFT is a first-principles method. This means that it uses a minimum of empirical information, so it can handle unusual systems well, including materials that have never been synthesized! It scales well to several hundred atoms, but beyond that other methods need to be used.\n",
    "\n",
    " - However, DFT does still need some form of correction. The particular type of DFT used in Materials Project (GGA/PBE) systematically under-binds materials, meaning that bond lengths (and hence lattice parameters) are systematically larger than expected by 1-2%. This also results in a systematic error in our formation energies, but we can fix this systematic error by fitting our calculated data to experimental formation enthalpies.\n",
    "\n",
    " - DFT is a ground-state, 0 K method. It can calculate ground state properties well such as bulk modulus, along with electronic structure information (the shape of your band structures, for example) but it is notably bad at calculating excited states including band gaps, and systematically under-estimates band gaps by a large margin. For this reason, any screening based on band gap has to include a large safety margin of ~0.5 eV.\n",
    "\n",
    "Taken from https://workshop.materialsproject.org/lessons/01_website_walkthrough/website_walkthrough/ (20.08.2020)"
   ]
  },
  {
   "cell_type": "markdown",
   "metadata": {},
   "source": [
    "Another tool that is made based on Materials Project is the Python library matminer. Works well with pandas, and is used to extract features from materials and use machine learning such as SciKit-Learn. \n",
    "https://hackingmaterials.lbl.gov/matminer/ (20.08.2020)\n",
    "Examples and jupyter notebooks using matminer is found here: \n",
    "https://nbviewer.jupyter.org/github/hackingmaterials/matminer_examples/blob/master/matminer_examples/index.ipynb"
   ]
  },
  {
   "cell_type": "code",
   "execution_count": 2,
   "metadata": {},
   "outputs": [],
   "source": [
    "mpr = MPRester(\"b7RtVfJTsUg6TK8E\")"
   ]
  },
  {
   "cell_type": "code",
   "execution_count": 3,
   "metadata": {
    "scrolled": true
   },
   "outputs": [
    {
     "name": "stdout",
     "output_type": "stream",
     "text": [
      "0 of 4358 done 0.0%\n",
      "500 of 4358 done 11.5%\n",
      "1000 of 4358 done 22.9%\n",
      "1500 of 4358 done 34.4%\n",
      "2000 of 4358 done 45.9%\n",
      "2500 of 4358 done 57.4%\n",
      "3000 of 4358 done 68.8%\n",
      "3500 of 4358 done 80.3%\n",
      "4000 of 4358 done 91.8%\n",
      "4358 of 4358 done 100.0%\n"
     ]
    }
   ],
   "source": [
    "with MPRester(\"b7RtVfJTsUg6TK8E\") as mpr:\n",
    "    docs = mpr.query(criteria={\"formula_anonymous\": \"ABC3\"},\n",
    "                     properties=[\"task_id\", \"pretty_formula\", \"unit_cell_formula\", \"nsites\"])\n",
    "\n"
   ]
  },
  {
   "cell_type": "code",
   "execution_count": 4,
   "metadata": {
    "scrolled": false
   },
   "outputs": [],
   "source": [
    "data1 = mpr.get_data(\"*1*1O3\")"
   ]
  },
  {
   "cell_type": "code",
   "execution_count": 5,
   "metadata": {
    "scrolled": false
   },
   "outputs": [
    {
     "name": "stdout",
     "output_type": "stream",
     "text": [
      "2398\n"
     ]
    }
   ],
   "source": [
    "print (len(data1))"
   ]
  },
  {
   "cell_type": "code",
   "execution_count": null,
   "metadata": {},
   "outputs": [],
   "source": []
  },
  {
   "cell_type": "code",
   "execution_count": null,
   "metadata": {},
   "outputs": [],
   "source": []
  },
  {
   "cell_type": "code",
   "execution_count": 6,
   "metadata": {},
   "outputs": [
    {
     "name": "stdout",
     "output_type": "stream",
     "text": [
      "85\n"
     ]
    }
   ],
   "source": [
    "target = [{'Cs': 1.0, 'Pa': 1.0, 'O': 3}, {'Cs': 1.0, 'U': 1.0, 'O': 3}, {'K': 1.0, 'Re': 1.0, 'O': 3},\n",
    "         {'K': 1.0, 'Re': 1.0, 'O': 3}, {'K': 1.0, 'W': 1.0, 'O': 3}, {'Tl': 1.0, 'Pa': 1.0, 'O': 3},\n",
    "         {'Tl': 1.0, 'U': 1.0, 'O': 3}, {'Eu': 1.0, 'Cu': 1.0, 'O': 3}, {'Hg': 1.0, 'Pa': 1.0, 'O': 3},\n",
    "         {'Na': 1.0, 'Re': 1.0, 'O': 3}, {'Ag': 1.0, 'Pa': 1.0, 'O': 3}, {'Ag': 1.0, 'U': 1.0, 'O': 3},\n",
    "         {'Bi': 1.0, 'Cr': 1.0, 'O': 3}, {'Bi': 1.0, 'Cu': 1.0, 'O': 3}, {'Bi': 1.0, 'Lu': 1.0, 'O': 3}, \n",
    "         {'Bi': 1.0, 'Rh': 1.0, 'O': 3}, {'Bi': 1.0, 'V': 1.0, 'O': 3}, {'Ca': 1.0, 'Co': 1.0, 'O': 3},\n",
    "         {'Ca': 1.0, 'Pu': 1.0, 'O': 3}, {'Cd': 1.0, 'Pa': 1.0, 'O': 3}, {'Cd': 1.0, 'Pu': 1.0, 'O': 3},\n",
    "         {'Ce': 1.0, 'Co': 1.0, 'O': 3}, {'Ce': 1.0, 'Cu': 1.0, 'O': 3}, {'Ce': 1.0, 'In': 1.0, 'O': 3},\n",
    "         {'Ce': 1.0, 'Ni': 1.0, 'O': 3}, {'Ce': 1.0, 'Rh': 1.0, 'O': 3}, {'Ce': 1.0, 'Ru': 1.0, 'O': 3}, \n",
    "         {'Ce': 1.0, 'Sc': 1.0, 'O': 3}, {'Dy': 1.0, 'Cu': 1.0, 'O': 3}, {'Dy': 1.0, 'Ga': 1.0, 'O': 3},\n",
    "         {'Er': 1.0, 'Co': 1.0, 'O': 3}, {'Er': 1.0, 'Ga': 1.0, 'O': 3}, {'Eu': 1.0, 'Co': 1.0, 'O': 3},\n",
    "         {'Eu': 1.0, 'Cr': 1.0, 'O': 3}, {'Eu': 1.0, 'Ge': 1.0, 'O': 3}, {'Eu': 1.0, 'Hf': 1.0, 'O': 3},\n",
    "         {'Eu': 1.0, 'Ir': 1.0, 'O': 3}, {'Eu': 1.0, 'Mn': 1.0, 'O': 3}, {'Eu': 1.0, 'Mo': 1.0, 'O': 3}, \n",
    "         {'Eu': 1.0, 'Nb': 1.0, 'O': 3}, {'Eu': 1.0, 'Pa': 1.0, 'O': 3}, {'Eu': 1.0, 'Pb': 1.0, 'O': 3},\n",
    "         {'Eu': 1.0, 'Pu': 1.0, 'O': 3}, {'Eu': 1.0, 'Ru': 1.0, 'O': 3}, {'Eu': 1.0, 'Sn': 1.0, 'O': 3},\n",
    "         {'Eu': 1.0, 'Ti': 1.0, 'O': 3}, {'Eu': 1.0, 'V': 1.0, 'O': 3}, {'Eu': 1.0, 'Zr': 1.0, 'O': 3}, \n",
    "         {'Gd': 1.0, 'Cu': 1.0, 'O': 3}, {'Hg': 1.0, 'Hf': 1.0, 'O': 3}, {'Hg': 1.0, 'Pu': 1.0, 'O': 3},\n",
    "         {'Hg': 1.0, 'Zr': 1.0, 'O': 3}, {'Ho': 1.0, 'Ga': 1.0, 'O': 3}, {'Ho': 1.0, 'V': 1.0, 'O': 3},\n",
    "         {'Lu': 1.0, 'Co': 1.0, 'O': 3}, {'Lu': 1.0, 'Ga': 1.0, 'O': 3}, {'Lu': 1.0, 'Ni': 1.0, 'O': 3},\n",
    "         {'Nd': 1.0, 'Cu': 1.0, 'O': 3}, {'Nd': 1.0, 'Ru': 1.0, 'O': 3}, {'Pb': 1.0, 'Pa': 1.0, 'O': 3},\n",
    "         {'Pb': 1.0, 'Pu': 1.0, 'O': 3}, {'Pr': 1.0, 'Cu': 1.0, 'O': 3}, {'Pr': 1.0, 'Ln': 1.0, 'O': 3},\n",
    "         {'Pu': 1.0, 'Ga': 1.0, 'O': 3}, {'Sm': 1.0, 'Cu': 1.0, 'O': 3}, {'Sm': 1.0, 'Ga': 1.0, 'O': 3},\n",
    "         {'Sm': 1.0, 'Ru': 1.0, 'O': 3}, {'Sr': 1.0, 'Cr': 1.0, 'O': 3}, {'Sr': 1.0, 'Np': 1.0, 'O': 3},\n",
    "         {'Sr': 1.0, 'Pa': 1.0, 'O': 3}, {'Sr': 1.0, 'U': 1.0, 'O': 3}, {'Tb': 1.0, 'Cu': 1.0, 'O': 3}, \n",
    "         {'Tb': 1.0, 'Ga': 1.0, 'O': 3}, {'Tb': 1.0, 'Ni': 1.0, 'O': 3}, {'Tb': 1.0, 'Sc': 1.0, 'O': 3},\n",
    "         {'Tl': 1.0, 'Mn': 1.0, 'O': 3}, {'Tm': 1.0, 'Co': 1.0, 'O': 3}, {'Tm': 1.0, 'Ga': 1.0, 'O': 3},\n",
    "         {'Yb': 1.0, 'Co': 1.0, 'O': 3}, {'Yb': 1.0, 'Rh': 1.0, 'O': 3}, {'Yb': 1.0, 'Ru': 1.0, 'O': 3},\n",
    "         {'Yb': 1.0, 'Sc': 1.0, 'O': 3}, {'Eu': 1.0, 'Er': 1.0, 'O': 3}, {'Eu': 1.0, 'Lr': 1.0, 'O': 3}, \n",
    "         {'Eu': 1.0, 'Tm': 1.0, 'O': 3}]\n",
    "targetToData1 = np.zeros(len(target))\n",
    "targetToData2 = np.zeros(len(target))\n",
    "targetToData3 = np.zeros(len(target))\n",
    "targetToData4 = np.zeros(len(target))\n",
    "\n",
    "targetToDocs = np.zeros(len(target))\n",
    "\n",
    "print(len(target))"
   ]
  },
  {
   "cell_type": "markdown",
   "metadata": {},
   "source": [
    "Removing every cell that does not have 5 nsites, and checking if the data has the first prediction of the article. "
   ]
  },
  {
   "cell_type": "code",
   "execution_count": 7,
   "metadata": {
    "scrolled": false
   },
   "outputs": [
    {
     "name": "stdout",
     "output_type": "stream",
     "text": [
      "1 1 {'Cs': 1.0, 'Pa': 1.0, 'O': 3}\n",
      "1 1 {'Cs': 1.0, 'U': 1.0, 'O': 3}\n",
      "1 1 {'K': 1.0, 'Re': 1.0, 'O': 3}\n",
      "1 1 {'K': 1.0, 'Re': 1.0, 'O': 3}\n",
      "1 1 {'K': 1.0, 'W': 1.0, 'O': 3}\n",
      "1 1 {'Tl': 1.0, 'Pa': 1.0, 'O': 3}\n",
      "1 1 {'Tl': 1.0, 'U': 1.0, 'O': 3}\n",
      "1 1 {'Eu': 1.0, 'Cu': 1.0, 'O': 3}\n",
      "1 1 {'Hg': 1.0, 'Pa': 1.0, 'O': 3}\n",
      "1 1 {'Na': 1.0, 'Re': 1.0, 'O': 3}\n",
      "1 1 {'Ag': 1.0, 'Pa': 1.0, 'O': 3}\n",
      "0 0 {'Ag': 1.0, 'U': 1.0, 'O': 3}\n",
      "0 0 {'Bi': 1.0, 'Cr': 1.0, 'O': 3}\n",
      "1 1 {'Bi': 1.0, 'Cu': 1.0, 'O': 3}\n",
      "0 0 {'Bi': 1.0, 'Lu': 1.0, 'O': 3}\n",
      "0 0 {'Bi': 1.0, 'Rh': 1.0, 'O': 3}\n",
      "1 1 {'Bi': 1.0, 'V': 1.0, 'O': 3}\n",
      "2 2 {'Ca': 1.0, 'Co': 1.0, 'O': 3}\n",
      "0 0 {'Ca': 1.0, 'Pu': 1.0, 'O': 3}\n",
      "0 0 {'Cd': 1.0, 'Pa': 1.0, 'O': 3}\n",
      "0 0 {'Cd': 1.0, 'Pu': 1.0, 'O': 3}\n",
      "0 0 {'Ce': 1.0, 'Co': 1.0, 'O': 3}\n",
      "1 1 {'Ce': 1.0, 'Cu': 1.0, 'O': 3}\n",
      "0 0 {'Ce': 1.0, 'In': 1.0, 'O': 3}\n",
      "1 1 {'Ce': 1.0, 'Ni': 1.0, 'O': 3}\n",
      "0 0 {'Ce': 1.0, 'Rh': 1.0, 'O': 3}\n",
      "0 0 {'Ce': 1.0, 'Ru': 1.0, 'O': 3}\n",
      "0 0 {'Ce': 1.0, 'Sc': 1.0, 'O': 3}\n",
      "1 1 {'Dy': 1.0, 'Cu': 1.0, 'O': 3}\n",
      "0 0 {'Dy': 1.0, 'Ga': 1.0, 'O': 3}\n",
      "0 0 {'Er': 1.0, 'Co': 1.0, 'O': 3}\n",
      "1 1 {'Er': 1.0, 'Ga': 1.0, 'O': 3}\n",
      "1 1 {'Eu': 1.0, 'Co': 1.0, 'O': 3}\n",
      "1 1 {'Eu': 1.0, 'Cr': 1.0, 'O': 3}\n",
      "1 1 {'Eu': 1.0, 'Ge': 1.0, 'O': 3}\n",
      "1 1 {'Eu': 1.0, 'Hf': 1.0, 'O': 3}\n",
      "1 1 {'Eu': 1.0, 'Ir': 1.0, 'O': 3}\n",
      "1 1 {'Eu': 1.0, 'Mn': 1.0, 'O': 3}\n",
      "1 1 {'Eu': 1.0, 'Mo': 1.0, 'O': 3}\n",
      "1 1 {'Eu': 1.0, 'Nb': 1.0, 'O': 3}\n",
      "0 0 {'Eu': 1.0, 'Pa': 1.0, 'O': 3}\n",
      "1 1 {'Eu': 1.0, 'Pb': 1.0, 'O': 3}\n",
      "0 0 {'Eu': 1.0, 'Pu': 1.0, 'O': 3}\n",
      "1 1 {'Eu': 1.0, 'Ru': 1.0, 'O': 3}\n",
      "1 1 {'Eu': 1.0, 'Sn': 1.0, 'O': 3}\n",
      "0 0 {'Eu': 1.0, 'Ti': 1.0, 'O': 3}\n",
      "1 1 {'Eu': 1.0, 'V': 1.0, 'O': 3}\n",
      "1 1 {'Eu': 1.0, 'Zr': 1.0, 'O': 3}\n",
      "1 1 {'Gd': 1.0, 'Cu': 1.0, 'O': 3}\n",
      "1 1 {'Hg': 1.0, 'Hf': 1.0, 'O': 3}\n",
      "0 0 {'Hg': 1.0, 'Pu': 1.0, 'O': 3}\n",
      "1 1 {'Hg': 1.0, 'Zr': 1.0, 'O': 3}\n",
      "0 0 {'Ho': 1.0, 'Ga': 1.0, 'O': 3}\n",
      "0 0 {'Ho': 1.0, 'V': 1.0, 'O': 3}\n",
      "0 0 {'Lu': 1.0, 'Co': 1.0, 'O': 3}\n",
      "1 1 {'Lu': 1.0, 'Ga': 1.0, 'O': 3}\n",
      "0 0 {'Lu': 1.0, 'Ni': 1.0, 'O': 3}\n",
      "0 0 {'Nd': 1.0, 'Cu': 1.0, 'O': 3}\n",
      "0 0 {'Nd': 1.0, 'Ru': 1.0, 'O': 3}\n",
      "0 0 {'Pb': 1.0, 'Pa': 1.0, 'O': 3}\n",
      "1 1 {'Pb': 1.0, 'Pu': 1.0, 'O': 3}\n",
      "1 1 {'Pr': 1.0, 'Cu': 1.0, 'O': 3}\n",
      "0 0 {'Pr': 1.0, 'Ln': 1.0, 'O': 3}\n",
      "1 1 {'Pu': 1.0, 'Ga': 1.0, 'O': 3}\n",
      "1 1 {'Sm': 1.0, 'Cu': 1.0, 'O': 3}\n",
      "1 1 {'Sm': 1.0, 'Ga': 1.0, 'O': 3}\n",
      "0 0 {'Sm': 1.0, 'Ru': 1.0, 'O': 3}\n",
      "1 1 {'Sr': 1.0, 'Cr': 1.0, 'O': 3}\n",
      "0 0 {'Sr': 1.0, 'Np': 1.0, 'O': 3}\n",
      "0 0 {'Sr': 1.0, 'Pa': 1.0, 'O': 3}\n",
      "0 0 {'Sr': 1.0, 'U': 1.0, 'O': 3}\n",
      "1 1 {'Tb': 1.0, 'Cu': 1.0, 'O': 3}\n",
      "0 0 {'Tb': 1.0, 'Ga': 1.0, 'O': 3}\n",
      "1 1 {'Tb': 1.0, 'Ni': 1.0, 'O': 3}\n",
      "0 0 {'Tb': 1.0, 'Sc': 1.0, 'O': 3}\n",
      "0 0 {'Tl': 1.0, 'Mn': 1.0, 'O': 3}\n",
      "0 0 {'Tm': 1.0, 'Co': 1.0, 'O': 3}\n",
      "0 0 {'Tm': 1.0, 'Ga': 1.0, 'O': 3}\n",
      "0 0 {'Yb': 1.0, 'Co': 1.0, 'O': 3}\n",
      "0 0 {'Yb': 1.0, 'Rh': 1.0, 'O': 3}\n",
      "0 0 {'Yb': 1.0, 'Ru': 1.0, 'O': 3}\n",
      "1 1 {'Yb': 1.0, 'Sc': 1.0, 'O': 3}\n",
      "1 1 {'Eu': 1.0, 'Er': 1.0, 'O': 3}\n",
      "0 0 {'Eu': 1.0, 'Lr': 1.0, 'O': 3}\n",
      "1 1 {'Eu': 1.0, 'Tm': 1.0, 'O': 3}\n"
     ]
    }
   ],
   "source": [
    "\n",
    "for i in range(len(target)): \n",
    "    for j in range(len(data1)): \n",
    "        if data1[j]['unit_cell_formula'] == target[i]:\n",
    "            targetToData1[i] += 1\n",
    "                        \n",
    "for i in range(len(target)): \n",
    "    for j in range(len(docs)): \n",
    "        if docs[j]['unit_cell_formula'] == target[i]:\n",
    "            targetToDocs[i] += 1\n",
    "            \n",
    "for i in range(len(target)):\n",
    "    print (int(targetToData1[i]), int(targetToDocs[i]), target[i])"
   ]
  },
  {
   "cell_type": "code",
   "execution_count": 24,
   "metadata": {
    "scrolled": true
   },
   "outputs": [
    {
     "name": "stdout",
     "output_type": "stream",
     "text": [
      "How much of the database that is included compared to the article: \n",
      "\n",
      "0.5411764705882353\n"
     ]
    }
   ],
   "source": [
    "count = 0\n",
    "for i in range(len(targetToData1)): \n",
    "    if (targetToData1[i]!=0): \n",
    "        count += 1\n",
    "print (\"How much of the database that is included compared to the article: \\n\")\n",
    "print (count/len(targetToData1))"
   ]
  },
  {
   "cell_type": "code",
   "execution_count": 9,
   "metadata": {
    "scrolled": false
   },
   "outputs": [
    {
     "name": "stdout",
     "output_type": "stream",
     "text": [
      "2398 933\n",
      "4358 1721\n"
     ]
    }
   ],
   "source": [
    "\n",
    "countData1 = 0\n",
    "\n",
    "\n",
    "countDocs = 0\n",
    "for i in range(len(data1)):\n",
    "    if data1[i]['nsites'] == 5: \n",
    "        countData1 +=1 \n",
    "        \n",
    "for i in range(len(docs)):\n",
    "    if docs[i]['nsites'] == 5: \n",
    "        countDocs +=1 \n",
    "        \n",
    "print(len(data1), countData1)\n",
    "\n",
    "print(len(docs), countDocs)"
   ]
  },
  {
   "cell_type": "code",
   "execution_count": null,
   "metadata": {},
   "outputs": [],
   "source": []
  }
 ],
 "metadata": {
  "kernelspec": {
   "display_name": "Python 3",
   "language": "python",
   "name": "python3"
  },
  "language_info": {
   "codemirror_mode": {
    "name": "ipython",
    "version": 3
   },
   "file_extension": ".py",
   "mimetype": "text/x-python",
   "name": "python",
   "nbconvert_exporter": "python",
   "pygments_lexer": "ipython3",
   "version": "3.6.9"
  }
 },
 "nbformat": 4,
 "nbformat_minor": 4
}
